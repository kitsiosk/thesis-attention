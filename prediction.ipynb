{
 "cells": [
  {
   "cell_type": "markdown",
   "metadata": {},
   "source": [
    "# Attention Prediction in a non-calibrated system\n",
    "\n",
    "The purpose of this notebook is to predict a user's attention, meaning a model to decide whether a user is looking on the laptop's screen or not.  We want to achieve this without calibrating the system and by only using 2D frames from the laptop camera in real-time. \n",
    "\n",
    "For the thesis, we have created a dataset with labelled frames(1: looking, 0: not looking) and performed a couple of preprocessing steps to extract 68 facial landmarks on the face and the 2 iris points calculated by Loceye's eye-tracking algorithms. \n",
    "Below, we will try out different data architectures and classifiers to figure out the best performance.\n",
    "To achieve real-time performance and non-biased behaviour, we do not want to include any calibrating process. Therefore we will approximate a mapping between the 2D camera points and the 3D world by solving the [Perspective-n-Point](https://en.wikipedia.org/wiki/Perspective-n-Point) problem using the built-in OpenCV method solvePnP. This way, we will obtain the Rotation and Translation matrix(3x1 each) for each frame. Afterwards, we will use them in different architectures to train a machine learning model that will predict the final output. The architectures presented below are:\n",
    "\n",
    " - Feed the raw two vectors in a classifier.\n",
    " - Feed the two vectors and the 2 iris points."
   ]
  },
  {
   "cell_type": "markdown",
   "metadata": {},
   "source": [
    "### Import packages"
   ]
  },
  {
   "cell_type": "code",
   "execution_count": 1,
   "metadata": {},
   "outputs": [],
   "source": [
    "import numpy as np\n",
    "import cv2\n",
    "import dlib\n",
    "from imutils import face_utils\n",
    "import glob\n",
    "import pickle\n",
    "from random import shuffle\n",
    "from sklearn.model_selection import train_test_split\n",
    "from sklearn import metrics\n",
    "import json"
   ]
  },
  {
   "cell_type": "markdown",
   "metadata": {},
   "source": [
    "### 3D Model points for SolvePnP\n",
    "We will approximate the 3D points of the following face parts with the correspoinding coordinates. This is a general model of the human face and we do not need to worry much about absolute accuracy."
   ]
  },
  {
   "cell_type": "code",
   "execution_count": 2,
   "metadata": {},
   "outputs": [],
   "source": [
    "# 3D model points.\n",
    "model_points = np.array([\n",
    "                            (0.0, 0.0, 0.0),             # Nose tip\n",
    "                            (0.0, -330.0, -65.0),        # Chin\n",
    "                            (-225.0, 170.0, -135.0),     # Left eye left corner\n",
    "                            (225.0, 170.0, -135.0),      # Right eye right corne\n",
    "                            (-150.0, -150.0, -125.0),    # Left Mouth corner\n",
    "                            (150.0, -150.0, -125.0)      # Right mouth corner\n",
    "                         \n",
    "                        ])"
   ]
  },
  {
   "cell_type": "markdown",
   "metadata": {},
   "source": [
    "### Load Dataset"
   ]
  },
  {
   "cell_type": "code",
   "execution_count": 3,
   "metadata": {},
   "outputs": [
    {
     "name": "stdout",
     "output_type": "stream",
     "text": [
      "(2758,)\n"
     ]
    }
   ],
   "source": [
    "# Number of training examples to use(0-2806)\n",
    "DATASET_SIZE = 2758\n",
    "DEBUG = False\n",
    "\n",
    "# Load the dataset\n",
    "with open('data_cleaned.json') as json_file:\n",
    "    data_all = json.load(json_file)\n",
    "\n",
    "# Extract the keys in sorted order\n",
    "keys = sorted(data_all)\n",
    "\n",
    "# Convert python list to np array\n",
    "keys = np.asarray(keys)\n",
    "print(keys.shape)"
   ]
  },
  {
   "cell_type": "markdown",
   "metadata": {},
   "source": [
    "***"
   ]
  },
  {
   "cell_type": "markdown",
   "metadata": {},
   "source": [
    "# Architecture #1\n",
    "\n",
    "#### In this data architecture we will use as input the translation vector and rotation vector, each one of shape (3, 1) so a signle training example of our dataset will be of shape (6, 1). "
   ]
  },
  {
   "cell_type": "code",
   "execution_count": 4,
   "metadata": {},
   "outputs": [
    {
     "name": "stdout",
     "output_type": "stream",
     "text": [
      "(2758, 6)\n",
      "(2758,)\n"
     ]
    }
   ],
   "source": [
    "X = np.zeros((DATASET_SIZE, 6, 1))\n",
    "y = np.zeros(DATASET_SIZE)\n",
    "\n",
    "# index of the next free element of X_eval\n",
    "next_free = 0\n",
    "\n",
    "for i in range(DATASET_SIZE):\n",
    "    key = keys[i]\n",
    "\n",
    "    # Approximate camera intrinsic parameters\n",
    "    im = cv2.imread('dataset/' + key)   # This imread is time consuming! Another way?\n",
    "    size = im.shape\n",
    "    focal_length = size[1]\n",
    "    center = (size[1]/2, size[0]/2)\n",
    "    camera_matrix = np.array(\n",
    "                             [[focal_length, 0, center[0]],\n",
    "                             [0, focal_length, center[1]],\n",
    "                             [0, 0, 1]], dtype = \"double\"\n",
    "                             )\n",
    "    dist_coeffs = np.zeros((4,1)) # Assuming no lens distortion\n",
    "    \n",
    "    landmarks = data_all[key]['landmarks']\n",
    "    \n",
    "    # Grab the 2D coordinates of our six sample points\n",
    "    image_points = np.array([\n",
    "        (landmarks[33]['x'], landmarks[33]['y']) ,     # Nose tip\n",
    "        (landmarks[8]['x'], landmarks[8]['y']),     # Chin\n",
    "        (landmarks[36]['x'], landmarks[36]['y']),     # Left eye left corner\n",
    "        (landmarks[45]['x'], landmarks[45]['y']),     # Right eye right corner\n",
    "        (landmarks[48]['x'], landmarks[48]['y']),     # Left Mouth corner\n",
    "        (landmarks[54]['x'], landmarks[54]['y'])      # Right mouth corner\n",
    "    ], dtype=\"double\")\n",
    "    \n",
    "    # Solve the PnP problem with the parameters specified above\n",
    "    # and obtain rotation and translation vectors\n",
    "    (success, rotation_vector, translation_vector) = cv2.solvePnP(\n",
    "        model_points, image_points, camera_matrix, dist_coeffs, flags=cv2.SOLVEPNP_DLS\n",
    "        )\n",
    "    \n",
    "    X[i, :] = np.concatenate((rotation_vector, translation_vector), axis=0)\n",
    "    # Check if it is positive or negative example\n",
    "    output = key.split('/')[1]\n",
    "    if(output == 'positive'):\n",
    "        y[i] = 1\n",
    "    elif(output == 'negative'):\n",
    "        y[i] = 0\n",
    "    \n",
    "    # DEBUGGING\n",
    "    if(DEBUG and i <= 10):\n",
    "        # Project a 3D point (0, 0, 1000.0) onto the image plane.\n",
    "        # We use this to draw a line sticking out of the nose\n",
    "        (nose_end_point2D, jacobian) = cv2.projectPoints(\n",
    "            np.array([(0.0, 0.0, 500.0)]), rotation_vector, translation_vector, camera_matrix, dist_coeffs\n",
    "            )\n",
    "        for p in image_points:\n",
    "            cv2.circle(im, (int(p[0]), int(p[1])), 3, (0,0,255), -1)\n",
    "        p1 = ( int(image_points[0][0]), int(image_points[0][1]) )\n",
    "        p2 = ( int(nose_end_point2D[0][0][0]), int(nose_end_point2D[0][0][1]) )\n",
    "        \n",
    "        # Draw a line connecting the two points. This line must show\n",
    "        # the direction out of the nose\n",
    "        cv2.line(im, p1, p2, (255,0,0), 2)\n",
    "        # Display image\n",
    "        cv2.imshow(\"Output\", im)\n",
    "        cv2.waitKey(0)\n",
    "        cv2.destroyAllWindows()\n",
    "        print(\"Rotation Vector:\\n {0}\".format(rotation_vector))\n",
    "        print(\"Translation Vector:\\n {0}\".format(translation_vector))\n",
    "\n",
    "\n",
    "X = X.squeeze()\n",
    "print(X.shape)\n",
    "print(y.shape)"
   ]
  },
  {
   "cell_type": "markdown",
   "metadata": {},
   "source": [
    "#### Data Preproccessing: Normalize features to have 0 mean and 1 Std\n",
    "We obtain the mean and std from the first 800 examples and not the whole dataset beacause computations crush with too many exmaples and give infinite mean and std"
   ]
  },
  {
   "cell_type": "markdown",
   "metadata": {},
   "source": [
    "#####  Before normalization:"
   ]
  },
  {
   "cell_type": "code",
   "execution_count": 5,
   "metadata": {},
   "outputs": [
    {
     "name": "stdout",
     "output_type": "stream",
     "text": [
      "Mean:  [-2.59735837e+00  3.72605084e-02 -4.71330407e-01  1.99959859e+02\n",
      "  7.65228621e+00  2.20592618e+03]\n",
      "Std:  [1.09168816e+00 1.27514662e-01 5.86612915e-01 2.33042057e+02\n",
      " 1.60495993e+02 4.99813998e+02]\n"
     ]
    }
   ],
   "source": [
    "m = X[0:1000, :].mean(axis=0)\n",
    "std = X[0:1000, :].std(axis=0)\n",
    "\n",
    "print('Mean: ', m)\n",
    "print('Std: ', std)\n",
    "\n",
    "# Save the mean and std for predictions in other notebooks\n",
    "with open('mean.pickle', 'wb') as f:\n",
    "    pickle.dump(m, f, pickle.HIGHEST_PROTOCOL)\n",
    "with open('std.pickle', 'wb') as f:\n",
    "    pickle.dump(std, f, pickle.HIGHEST_PROTOCOL)"
   ]
  },
  {
   "cell_type": "code",
   "execution_count": 6,
   "metadata": {},
   "outputs": [],
   "source": [
    "X_scaled = (X-m)/std"
   ]
  },
  {
   "cell_type": "markdown",
   "metadata": {},
   "source": [
    "##### After normalization:"
   ]
  },
  {
   "cell_type": "code",
   "execution_count": 7,
   "metadata": {},
   "outputs": [
    {
     "name": "stdout",
     "output_type": "stream",
     "text": [
      "Mean: [-0.06885114  0.36898336  0.08847943  0.34241931 -0.1677535  -0.90788602]\n",
      "Std:  [1. 1. 1. 1. 1. 1.]\n",
      "(2758,)\n"
     ]
    }
   ],
   "source": [
    "print('Mean:', X_scaled[2000:2500].mean(axis=0))\n",
    "print('Std: ', X_scaled[0:1000].std(axis=0))\n",
    "print(y.shape)"
   ]
  },
  {
   "cell_type": "markdown",
   "metadata": {},
   "source": [
    "# Train different classifiers\n",
    "Here we will try out 3 classifiers and compare their results:\n",
    " - A SVM with rbf kernel and penalty parameter C=100\n",
    " - A Logistic Regression classifer\n",
    " - A Random Forest Classifier"
   ]
  },
  {
   "cell_type": "code",
   "execution_count": 8,
   "metadata": {},
   "outputs": [],
   "source": [
    "# Number of classifiers to train in order to summarize the results\n",
    "NUM_OF_CLASSIFIERS = 10\n",
    "Y_SVM, Y_LR, Y_RF = np.zeros((NUM_OF_CLASSIFIERS)), np.zeros((NUM_OF_CLASSIFIERS)), np.zeros((NUM_OF_CLASSIFIERS))"
   ]
  },
  {
   "cell_type": "markdown",
   "metadata": {},
   "source": [
    "### SVM Classifier"
   ]
  },
  {
   "cell_type": "code",
   "execution_count": 10,
   "metadata": {},
   "outputs": [
    {
     "name": "stdout",
     "output_type": "stream",
     "text": [
      "Training set accuracy for SVM: 0.7774252039891206\n",
      "Test set accuracy for SVM:  0.6992753623188406\n"
     ]
    }
   ],
   "source": [
    "from sklearn import svm\n",
    "\n",
    "for i in range(NUM_OF_CLASSIFIERS):\n",
    "    # Try a different train/test split each time\n",
    "    X_train, X_test, y_train, y_test = train_test_split(X_scaled, y, test_size=0.2)\n",
    "    \n",
    "    svm_classifier = svm.SVC(C=100, kernel='rbf', gamma='auto')\n",
    "    svm_classifier.fit(X_train, y_train)\n",
    "    y_pred_svm = svm_classifier.predict(X_test)\n",
    "    Y_SVM[i] = metrics.accuracy_score(y_test, y_pred_svm)\n",
    "\n",
    "# Print the last result\n",
    "print('Training set accuracy for SVM:', svm_classifier.score(X_train, y_train))\n",
    "print('Test set accuracy for SVM: ', metrics.accuracy_score(y_test, y_pred_svm))"
   ]
  },
  {
   "cell_type": "markdown",
   "metadata": {},
   "source": [
    "### Logistic Regression Classifier"
   ]
  },
  {
   "cell_type": "code",
   "execution_count": 11,
   "metadata": {},
   "outputs": [
    {
     "name": "stdout",
     "output_type": "stream",
     "text": [
      "Training set accuracy for Logistic Regression: 0.5938349954669084\n",
      "Test set accuracy for Logistic Regression:  0.572463768115942\n"
     ]
    }
   ],
   "source": [
    "from sklearn.linear_model import LogisticRegression\n",
    "\n",
    "for i in range(NUM_OF_CLASSIFIERS):\n",
    "    # Try a different train/test split each time\n",
    "    X_train, X_test, y_train, y_test = train_test_split(X_scaled, y, test_size=0.2)\n",
    "    \n",
    "    lr_classifier = LogisticRegression(solver='lbfgs')\n",
    "    lr_classifier.fit(X_train, y_train)\n",
    "    y_pred_lr = lr_classifier.predict(X_test)\n",
    "    Y_LR[i] = metrics.accuracy_score(y_test, y_pred_lr)\n",
    "\n",
    "print('Training set accuracy for Logistic Regression:', lr_classifier.score(X_train, y_train))\n",
    "print('Test set accuracy for Logistic Regression: ', metrics.accuracy_score(y_test, y_pred_lr))"
   ]
  },
  {
   "cell_type": "markdown",
   "metadata": {},
   "source": [
    "### Random Forst Classifier"
   ]
  },
  {
   "cell_type": "code",
   "execution_count": 12,
   "metadata": {},
   "outputs": [
    {
     "name": "stdout",
     "output_type": "stream",
     "text": [
      "Training set accuracy for Random Forst: 1.0\n",
      "Test set accuracy for Random Forest:  0.7119565217391305\n"
     ]
    }
   ],
   "source": [
    "from sklearn.ensemble import RandomForestClassifier\n",
    "\n",
    "for i in range(NUM_OF_CLASSIFIERS):\n",
    "    # Try a different train/test split each time\n",
    "    X_train, X_test, y_train, y_test = train_test_split(X_scaled, y, test_size=0.2)\n",
    "    \n",
    "    rf_classifier = RandomForestClassifier(n_estimators=100, random_state=1)\n",
    "    rf_classifier.fit(X_train, y_train)\n",
    "    y_pred_rf = rf_classifier.predict(X_test)\n",
    "    Y_RF[i] = metrics.accuracy_score(y_test, y_pred_rf)\n",
    "\n",
    "print('Training set accuracy for Random Forst:', rf_classifier.score(X_train, y_train))\n",
    "print('Test set accuracy for Random Forest: ', metrics.accuracy_score(y_test, y_pred_rf))"
   ]
  },
  {
   "cell_type": "markdown",
   "metadata": {},
   "source": [
    "## Visualize & Summarize results for Architecture #1"
   ]
  },
  {
   "cell_type": "markdown",
   "metadata": {},
   "source": [
    "We trained the 3 classifiers for 10 different train/test splits and the accuracy results are shown below"
   ]
  },
  {
   "cell_type": "code",
   "execution_count": 14,
   "metadata": {},
   "outputs": [
    {
     "data": {
      "image/png": "[encoded data removed]",
      "text/plain": [
       "<Figure size 432x288 with 1 Axes>"
      ]
     },
     "metadata": {
      "needs_background": "light"
     },
     "output_type": "display_data"
    }
   ],
   "source": [
    "import matplotlib.pyplot as plt\n",
    "\n",
    "t = np.linspace(0, NUM_OF_CLASSIFIERS+2, NUM_OF_CLASSIFIERS)\n",
    "plt.plot(t, Y_SVM, 'r')\n",
    "plt.plot(t, Y_LR, 'g')\n",
    "plt.plot(t, Y_RF, 'b')\n",
    "plt.xlabel('classifier No')\n",
    "plt.ylabel('Test set Accuracy')\n",
    "plt.legend(('SVM', 'LR', 'RF'))\n",
    "\n",
    "plt.show()"
   ]
  },
  {
   "cell_type": "code",
   "execution_count": 15,
   "metadata": {},
   "outputs": [
    {
     "name": "stdout",
     "output_type": "stream",
     "text": [
      "0.7246376811594203 0.7735507246376812\n",
      "0.6958333333333333 0.7463768115942029\n"
     ]
    }
   ],
   "source": [
    "print(np.max(Y_SVM), np.max(Y_RF))\n",
    "print(np.mean(Y_SVM), np.mean(Y_RF))"
   ]
  },
  {
   "cell_type": "markdown",
   "metadata": {},
   "source": [
    "The best out of 10 scores for each classifier is presented below\n",
    "\n",
    "Metric                | SVM        | Logistic Regression | Random Forest |\n",
    ":----:                | :--------: | :-----------------: | :-----:       |\n",
    "Training set Accuracy | 0.743      | 0.619               | 1             | \n",
    "Test set Accuracty    | 0.699      | 0.612               | 0.779         |\n",
    "\n",
    "We clearly see that the Random Forest classifier with 100 trees outperfomrs the other 2, reaching 78% accuracy!"
   ]
  },
  {
   "cell_type": "code",
   "execution_count": 19,
   "metadata": {},
   "outputs": [],
   "source": [
    "with open('classifier.pickle', 'wb') as f:\n",
    "    pickle.dump(rf_classifier, f, pickle.HIGHEST_PROTOCOL)"
   ]
  },
  {
   "cell_type": "markdown",
   "metadata": {},
   "source": [
    "***"
   ]
  },
  {
   "cell_type": "markdown",
   "metadata": {},
   "source": [
    "# Architecture #2\n",
    "#### In this data architecture we will use as input the translation vector and rotation vector plus the 2 iris points) so a signle training example of our dataset will be of shape (10, 1). \n",
    "We already have the array X of shape (6, 1) containing the rotation and translation vectors stacked so we only need to extract the iris points from our data.json."
   ]
  },
  {
   "cell_type": "code",
   "execution_count": 16,
   "metadata": {},
   "outputs": [
    {
     "name": "stdout",
     "output_type": "stream",
     "text": [
      "(2758, 10)\n"
     ]
    }
   ],
   "source": [
    "X2 = np.zeros((DATASET_SIZE, 10))\n",
    "for i in range(DATASET_SIZE):\n",
    "    key = keys[i]\n",
    "    iris_right = np.asarray(data_all[key]['iris_right'])\n",
    "    iris_left = np.asarray(data_all[key]['iris_left'])\n",
    "    X2[i, :] = np.concatenate((X[i, :], iris_left, iris_right), axis = 0)\n",
    "print(X2.shape)"
   ]
  },
  {
   "cell_type": "markdown",
   "metadata": {},
   "source": [
    "The following steps are the same as for the first architecture"
   ]
  },
  {
   "cell_type": "code",
   "execution_count": 21,
   "metadata": {
    "collapsed": true
   },
   "outputs": [
    {
     "name": "stdout",
     "output_type": "stream",
     "text": [
      "[[-3.00653230e+00  1.10702127e-01  2.92455182e-01  1.21846882e+02\n",
      "  -8.57078754e+01  1.97358898e+03  3.18153556e+02  1.54399661e+02\n",
      "   4.07960395e+02  1.44383939e+02]\n",
      " [-2.96196521e+00  9.43830045e-02  4.17875700e-01  7.31537119e+01\n",
      "  -6.91491026e+01  1.94471305e+03  3.04270438e+02  1.57972638e+02\n",
      "   3.94833063e+02  1.48102345e+02]\n",
      " [-3.00092622e+00  1.08053669e-01  3.00926333e-01  1.18012699e+02\n",
      "  -7.61640396e+01  1.95811658e+03  3.21942401e+02  1.55791904e+02\n",
      "   4.08365086e+02  1.46879118e+02]\n",
      " [-2.89363052e+00  8.00248759e-02  5.43354477e-01  1.27068687e+02\n",
      "   1.90136070e+01  1.81139204e+03  3.30418228e+02  1.77675268e+02\n",
      "   4.24025902e+02  1.71831316e+02]\n",
      " [-2.88915450e+00  7.86796014e-02  5.34726352e-01  1.32750245e+02\n",
      "   2.23437096e+01  1.81805081e+03  3.31468833e+02  1.79534238e+02\n",
      "   4.24706204e+02  1.72841360e+02]]\n"
     ]
    }
   ],
   "source": [
    "print(X2[1000:1005])"
   ]
  },
  {
   "cell_type": "code",
   "execution_count": 17,
   "metadata": {},
   "outputs": [],
   "source": [
    "m = X2[0:1000, :].mean(axis=0)\n",
    "std = X2[0:1000, :].std(axis=0)\n",
    "\n",
    "X2_scaled = (X2-m)/std"
   ]
  },
  {
   "cell_type": "code",
   "execution_count": 18,
   "metadata": {},
   "outputs": [
    {
     "name": "stdout",
     "output_type": "stream",
     "text": [
      "(552,)\n",
      "[[-1.90573469e-01 -8.23385932e-01 -3.95323142e-01 -5.22356621e-01\n",
      "   1.28656113e+00  1.39673017e+00  9.56681691e-01  1.72952493e+00\n",
      "   1.01016534e+00  1.83689051e+00]\n",
      " [ 5.13224567e+00 -1.04021390e+00 -4.71362176e-01 -6.01874776e-01\n",
      "   1.49655863e+00 -8.34902270e-01 -6.30838904e-01  7.03098028e-01\n",
      "  -5.46021466e-01  6.49590878e-01]\n",
      " [-3.07679049e-01  3.57910114e-03  1.92153686e-01  1.55532717e-01\n",
      "   8.48515110e-01 -3.93291273e-02 -4.65038810e-01  2.04453356e-01\n",
      "  -4.85799237e-01  2.26793048e-01]\n",
      " [-1.06353432e-02 -1.22345047e+00 -9.00954724e-01 -1.51412004e+00\n",
      "  -5.95025635e-01 -8.74714411e-01 -1.20078447e+00 -8.86889088e-01\n",
      "  -1.14396092e+00 -8.30327815e-01]\n",
      " [ 5.16300520e+00 -7.12387017e-02 -3.68231770e-01 -1.00308928e+00\n",
      "   1.78187493e-01  3.09502194e+00  1.01174255e+00  1.13525970e+00\n",
      "   9.66334028e-01  1.22835966e+00]]\n"
     ]
    }
   ],
   "source": [
    "X2_train, X2_test, y2_train, y2_test = train_test_split(X2_scaled, y, test_size=0.2)\n",
    "print(y2_test.shape)\n",
    "print(X2_train[0:5, :])"
   ]
  },
  {
   "cell_type": "markdown",
   "metadata": {},
   "source": [
    "# Train different classifiers\n",
    "Here we will try out 3 classifiers and compare their results:\n",
    " - A SVM with rbf kernel and penalty parameter C=100\n",
    " - A Logistic Regression classifer\n",
    " - A Random Forest Classifier"
   ]
  },
  {
   "cell_type": "code",
   "execution_count": 19,
   "metadata": {},
   "outputs": [],
   "source": [
    "# Number of classifiers to train in order to summarize the results\n",
    "NUM_OF_CLASSIFIERS = 10\n",
    "Y_SVM2, Y_LR2, Y_RF2 = np.zeros((NUM_OF_CLASSIFIERS)), np.zeros((NUM_OF_CLASSIFIERS)), np.zeros((NUM_OF_CLASSIFIERS))"
   ]
  },
  {
   "cell_type": "markdown",
   "metadata": {},
   "source": [
    "### SVM classifier"
   ]
  },
  {
   "cell_type": "code",
   "execution_count": 20,
   "metadata": {},
   "outputs": [
    {
     "name": "stdout",
     "output_type": "stream",
     "text": [
      "Training set accuracy for SVM: 0.814143245693563\n",
      "Test set accuracy for SVM:  0.7554347826086957\n"
     ]
    }
   ],
   "source": [
    "from sklearn import svm\n",
    "for i in range(NUM_OF_CLASSIFIERS):\n",
    "    # Try a different train/test split each time\n",
    "    X2_train, X2_test, y2_train, y2_test = train_test_split(X2_scaled, y, test_size=0.2)\n",
    "    \n",
    "    svm_classifier2 = svm.SVC(C=100, kernel='rbf', gamma='auto')\n",
    "    svm_classifier2.fit(X2_train, y2_train)\n",
    "    y2_pred_svm = svm_classifier2.predict(X2_test)\n",
    "    Y_SVM2[i] = metrics.accuracy_score(y2_test, y2_pred_svm)\n",
    "\n",
    "print('Training set accuracy for SVM:', svm_classifier2.score(X2_train, y2_train))\n",
    "print('Test set accuracy for SVM: ', metrics.accuracy_score(y2_test, y2_pred_svm))"
   ]
  },
  {
   "cell_type": "markdown",
   "metadata": {},
   "source": [
    "### Logistic Regression Classifier"
   ]
  },
  {
   "cell_type": "code",
   "execution_count": 21,
   "metadata": {},
   "outputs": [
    {
     "name": "stdout",
     "output_type": "stream",
     "text": [
      "Training set accuracy for Logistic Regression: 0.6155938349954669\n",
      "Test set accuracy for Logistic Regression:  0.5380434782608695\n"
     ]
    }
   ],
   "source": [
    "from sklearn.linear_model import LogisticRegression\n",
    "\n",
    "for i in range(NUM_OF_CLASSIFIERS):\n",
    "    # Try a different train/test split each time\n",
    "    X2_train, X2_test, y2_train, y2_test = train_test_split(X2_scaled, y, test_size=0.2)\n",
    "    \n",
    "    lr_classifier2 = LogisticRegression(solver='lbfgs')\n",
    "    lr_classifier2.fit(X2_train, y2_train)\n",
    "    y2_pred_lr = lr_classifier2.predict(X2_test)\n",
    "    Y_LR2[i] = metrics.accuracy_score(y2_test, y2_pred_lr)\n",
    "\n",
    "print('Training set accuracy for Logistic Regression:', lr_classifier2.score(X2_train, y2_train))\n",
    "print('Test set accuracy for Logistic Regression: ', metrics.accuracy_score(y2_test, y2_pred_lr))"
   ]
  },
  {
   "cell_type": "markdown",
   "metadata": {},
   "source": [
    "### Random Forest Classifier"
   ]
  },
  {
   "cell_type": "code",
   "execution_count": 23,
   "metadata": {},
   "outputs": [
    {
     "name": "stdout",
     "output_type": "stream",
     "text": [
      "Training set accuracy for Random Forst: 1.0\n",
      "Test set accuracy for Random Forest:  0.7862318840579711\n"
     ]
    }
   ],
   "source": [
    "from sklearn.ensemble import RandomForestClassifier\n",
    "\n",
    "for i in range(NUM_OF_CLASSIFIERS):\n",
    "    # Try a different train/test split each time\n",
    "    X2_train, X2_test, y2_train, y2_test = train_test_split(X2_scaled, y, test_size=0.2)\n",
    "    \n",
    "    rf_classifier2 = RandomForestClassifier(n_estimators=100, random_state=1)\n",
    "    rf_classifier2.fit(X2_train, y2_train)\n",
    "    y2_pred_rf = rf_classifier2.predict(X2_test)\n",
    "    Y_RF2[i] = metrics.accuracy_score(y2_test, y2_pred_rf)\n",
    "\n",
    "print('Training set accuracy for Random Forst:', rf_classifier2.score(X2_train, y2_train))\n",
    "print('Test set accuracy for Random Forest: ', metrics.accuracy_score(y2_test, y2_pred_rf))"
   ]
  },
  {
   "cell_type": "markdown",
   "metadata": {},
   "source": [
    "## Visualize & Summarize results for Architecture #2\n"
   ]
  },
  {
   "cell_type": "markdown",
   "metadata": {},
   "source": [
    "We trained the 3 classifiers for 25 different train/test splits and the accuracy results are shown below"
   ]
  },
  {
   "cell_type": "code",
   "execution_count": 24,
   "metadata": {},
   "outputs": [
    {
     "data": {
      "image/png": "[encoded data removed]",
      "text/plain": [
       "<Figure size 432x288 with 1 Axes>"
      ]
     },
     "metadata": {
      "needs_background": "light"
     },
     "output_type": "display_data"
    },
    {
     "name": "stdout",
     "output_type": "stream",
     "text": [
      "0.7572463768115942 0.6268115942028986 0.8115942028985508\n",
      "0.7373188405797102 0.5898550724637681 0.7965579710144927\n"
     ]
    }
   ],
   "source": [
    "import matplotlib.pyplot as plt\n",
    "\n",
    "t = np.linspace(0, NUM_OF_CLASSIFIERS, NUM_OF_CLASSIFIERS)\n",
    "plt.plot(t, Y_SVM2, 'r')\n",
    "plt.plot(t, Y_LR2, 'g')\n",
    "plt.plot(t, Y_RF2, 'b')\n",
    "plt.xlabel('classifier No')\n",
    "plt.ylabel('Test set Accuracy')\n",
    "plt.legend(('SVM', 'LR', 'RF'))\n",
    "\n",
    "plt.show()\n",
    "print(Y_SVM2.max(axis=0), Y_LR2.max(axis=0), Y_RF2.max(axis=0))\n",
    "print(Y_SVM2.mean(axis=0), Y_LR2.mean(axis=0), Y_RF2.mean(axis=0))"
   ]
  },
  {
   "cell_type": "markdown",
   "metadata": {},
   "source": [
    "Metric                | SVM        | Logistic Regression | Random Forest |\n",
    ":----:                | :--------: | :-----------------: | :-----:       |\n",
    "Training set Accuracy | 0.752      | 0.533               | 1             | \n",
    "Test set Accuracty    | 0.716      | 0.588               | 0.770         |\n",
    "\n",
    "The difference between the first and the second architecture is noticeable.\n",
    "The SVM  method is more accurate now approaching the Random Forest accuracy, which also improved in but not as much as the SVM. Also, the Logistic Regression classifier seems unable to handle our Dataset in both architectures; therefore, we will not consider it for the next of our research. The best accuracy scored, 77%, is achieved by Random Forest classifier in our second data architecture."
   ]
  },
  {
   "cell_type": "markdown",
   "metadata": {},
   "source": [
    "***"
   ]
  },
  {
   "cell_type": "markdown",
   "metadata": {},
   "source": [
    "# Architecture #3\n",
    "In this archtecture we will use the difference vector between the iris and the inner edge point of the eye(Maybe add and image here?). First, we will keep the raw iris coordinates and add the 2 vectors to our training data, yielding to a shape of (14, 1). Afterwards we will try removing the absolute coordinates of the iris and compare the 2 results."
   ]
  },
  {
   "cell_type": "markdown",
   "metadata": {},
   "source": [
    "Previously on this notebook we had extracted the 68 facial landmarks as well as the two iris points. The 2 inner eye points are the landmarks 39 and 42"
   ]
  },
  {
   "cell_type": "code",
   "execution_count": 25,
   "metadata": {},
   "outputs": [
    {
     "name": "stdout",
     "output_type": "stream",
     "text": [
      "(2758, 14)\n"
     ]
    }
   ],
   "source": [
    "# Dataset construction\n",
    "\n",
    "X3 = np.zeros((DATASET_SIZE, 14))\n",
    "X4 = np.zeros((DATASET_SIZE, 10))\n",
    "for i in range(DATASET_SIZE):\n",
    "    key = keys[i]\n",
    "    \n",
    "    landmarks = data_all[key]['landmarks']\n",
    "    iris_right = np.asarray(data_all[key]['iris_right'])\n",
    "    iris_left = np.asarray(data_all[key]['iris_left'])\n",
    "    \n",
    "    left_vector = np.asarray( (abs(iris_left[0] - landmarks[39]['x']), abs(iris_left[1] - landmarks[39]['y'])) )\n",
    "    right_vector = np.asarray( (abs(iris_right[0] - landmarks[42]['x']), abs(iris_right[1] - landmarks[42]['y'])) )\n",
    "    X3[i] = np.concatenate((X2[i], left_vector, right_vector), axis=0)\n",
    "#     X4[i] = np.concatenate((X2[i, 0:6], left_vector, right_vector), axis=0)\n",
    "    \n",
    "    if DEBUG:\n",
    "        im = cv2.imread('dataset/' + key)\n",
    "        cv2.circle(im, (int(iris_left[0]), int(iris_left[1])), 3, (0,0,255), -1)\n",
    "        cv2.circle(im, (int(iris_right[0]), int(iris_right[1])), 3, (0,0,255), -1)\n",
    "        cv2.circle(im, (landmarks[39]['x'], landmarks[39]['y']), 3, (0,0,255), -1)\n",
    "        cv2.circle(im, (landmarks[42]['x'], landmarks[42]['y']), 3, (0,0,255), -1)\n",
    "        cv2.imshow('Im', im)\n",
    "        cv2.waitKey(0)\n",
    "        cv2.destroyAllWindows()\n",
    "\n",
    "print(X3.shape)"
   ]
  },
  {
   "cell_type": "code",
   "execution_count": 26,
   "metadata": {},
   "outputs": [],
   "source": [
    "m = X3[0:1000, :].mean(axis=0)\n",
    "std = X3[0:1000, :].std(axis=0)\n",
    "X3_scaled = (X3-m)/std"
   ]
  },
  {
   "cell_type": "code",
   "execution_count": 27,
   "metadata": {},
   "outputs": [],
   "source": [
    "# Number of classifiers to train in order to summarize the results\n",
    "NUM_OF_CLASSIFIERS = 25\n",
    "Y_SVM3, Y_LR3, Y_RF3 = np.zeros((NUM_OF_CLASSIFIERS)), np.zeros((NUM_OF_CLASSIFIERS)), np.zeros((NUM_OF_CLASSIFIERS))"
   ]
  },
  {
   "cell_type": "markdown",
   "metadata": {},
   "source": [
    "### SVM Classifier"
   ]
  },
  {
   "cell_type": "code",
   "execution_count": 28,
   "metadata": {
    "scrolled": true
   },
   "outputs": [
    {
     "name": "stdout",
     "output_type": "stream",
     "text": [
      "Training set accuracy for SVM: 0.9333635539437897\n",
      "Test set accuracy for SVM:  0.8442028985507246\n"
     ]
    }
   ],
   "source": [
    "from sklearn import svm\n",
    "\n",
    "for i in range(NUM_OF_CLASSIFIERS):\n",
    "    # Try a different train/test split each time\n",
    "    X3_train, X3_test, y3_train, y3_test = train_test_split(X3_scaled, y, test_size=0.2)\n",
    "    \n",
    "    svm_classifier3 = svm.SVC(C=100, kernel='rbf', gamma='auto')\n",
    "    svm_classifier3.fit(X3_train, y3_train)\n",
    "    y3_pred_svm = svm_classifier3.predict(X3_test)\n",
    "    Y_SVM3[i] = metrics.accuracy_score(y3_test, y3_pred_svm)\n",
    "\n",
    "# Print the last result\n",
    "print('Training set accuracy for SVM:', svm_classifier3.score(X3_train, y3_train))\n",
    "print('Test set accuracy for SVM: ', metrics.accuracy_score(y3_test, y3_pred_svm))"
   ]
  },
  {
   "cell_type": "markdown",
   "metadata": {},
   "source": [
    "### Random Forest Classifier"
   ]
  },
  {
   "cell_type": "code",
   "execution_count": 29,
   "metadata": {},
   "outputs": [
    {
     "name": "stdout",
     "output_type": "stream",
     "text": [
      "Training set accuracy for Random Forst: 1.0\n",
      "Test set accuracy for Random Forest:  0.8460144927536232\n"
     ]
    }
   ],
   "source": [
    "from sklearn.ensemble import RandomForestClassifier\n",
    "\n",
    "for i in range(NUM_OF_CLASSIFIERS):\n",
    "    # Try a different train/test split each time\n",
    "    X3_train, X3_test, y3_train, y3_test = train_test_split(X3_scaled, y, test_size=0.2)\n",
    "    \n",
    "    rf_classifier3 = RandomForestClassifier(n_estimators=50, random_state=1)\n",
    "    rf_classifier3.fit(X3_train, y3_train)\n",
    "    y3_pred_rf = rf_classifier3.predict(X3_test)\n",
    "    Y_RF3[i] = metrics.accuracy_score(y3_test, y3_pred_rf)\n",
    "\n",
    "print('Training set accuracy for Random Forst:', rf_classifier3.score(X3_train, y3_train))\n",
    "print('Test set accuracy for Random Forest: ', metrics.accuracy_score(y3_test, y3_pred_rf))"
   ]
  },
  {
   "cell_type": "markdown",
   "metadata": {},
   "source": [
    "### Visualize & Summarize results for Architecture #3"
   ]
  },
  {
   "cell_type": "code",
   "execution_count": 36,
   "metadata": {},
   "outputs": [
    {
     "data": {
      "image/png": "[encoded data removed]",
      "text/plain": [
       "<Figure size 432x288 with 1 Axes>"
      ]
     },
     "metadata": {
      "needs_background": "light"
     },
     "output_type": "display_data"
    },
    {
     "name": "stdout",
     "output_type": "stream",
     "text": [
      "0.8612099644128114 0.8807829181494662\n",
      "0.8251245551601424 0.848185053380783\n"
     ]
    }
   ],
   "source": [
    "import matplotlib.pyplot as plt\n",
    "\n",
    "t = np.linspace(0, NUM_OF_CLASSIFIERS, NUM_OF_CLASSIFIERS)\n",
    "plt.plot(t, Y_SVM3, 'r')\n",
    "plt.plot(t, Y_RF3, 'b')\n",
    "plt.xlabel('classifier No')\n",
    "plt.ylabel('Test set Accuracy')\n",
    "plt.legend(('SVM', 'RF'))\n",
    "\n",
    "plt.show()\n",
    "print(Y_SVM3.max(axis=0), Y_RF3.max(axis=0))\n",
    "print(Y_SVM3.mean(axis=0), Y_RF3.mean(axis=0))"
   ]
  },
  {
   "cell_type": "markdown",
   "metadata": {},
   "source": [
    "At this point we also tried feeding the difference vectors only without the absolute iris location, reaching an overall accuracy 2% lower than the one above."
   ]
  },
  {
   "cell_type": "markdown",
   "metadata": {},
   "source": [
    "It's time to save our trained Random Forest classifier as it is the more accurate one and use it in external applications. The cell below will save the last trained classifier and not the best one!"
   ]
  },
  {
   "cell_type": "code",
   "execution_count": 37,
   "metadata": {},
   "outputs": [],
   "source": [
    "with open('data.pickle', 'wb') as f:\n",
    "    pickle.dump(rf_classifier3, f, pickle.HIGHEST_PROTOCOL)"
   ]
  }
 ],
 "metadata": {
  "kernelspec": {
   "display_name": "Python 3",
   "language": "python",
   "name": "python3"
  },
  "language_info": {
   "codemirror_mode": {
    "name": "ipython",
    "version": 3
   },
   "file_extension": ".py",
   "mimetype": "text/x-python",
   "name": "python",
   "nbconvert_exporter": "python",
   "pygments_lexer": "ipython3",
   "version": "3.5.3"
  }
 },
 "nbformat": 4,
 "nbformat_minor": 2
}
