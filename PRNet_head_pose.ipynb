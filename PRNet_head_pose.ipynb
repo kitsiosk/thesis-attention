{
 "cells": [
  {
   "cell_type": "code",
   "execution_count": 2,
   "metadata": {},
   "outputs": [],
   "source": [
    "import glob"
   ]
  },
  {
   "cell_type": "code",
   "execution_count": 11,
   "metadata": {},
   "outputs": [],
   "source": [
    "dirs = glob.glob('dataset/*')"
   ]
  },
  {
   "cell_type": "code",
   "execution_count": 12,
   "metadata": {},
   "outputs": [
    {
     "name": "stdout",
     "output_type": "stream",
     "text": [
      "['dataset/0656f5fe35a54d1589e526a702f578b0', 'dataset/46056754fae5429e975f17d143673451', 'dataset/d824f0d3d56f41b4946aba7c9f6c3cfd', 'dataset/7d9be1d9b22e4a229b71dbf12f339243', 'dataset/f4e9d804730947a78e8251b35f2f519e', 'dataset/a7f3a3a5d6764aa69a77b71dc448e5e6', 'dataset/5f85582c5f1b40b48440af9c34ff3249', 'dataset/9be7464cb93a49f69e6d9a330eb3715a', 'dataset/9ef5c8cde44048f092b8625918b04986', 'dataset/9ed2ca01d30041aab1979f89cfdfa3cd', 'dataset/c288292040ec473f908130877697a383', 'dataset/61176f72b54241a2aaac74181926195a', 'dataset/493e717904f744978a20292fb4adddaa', 'dataset/eda516a9dbe84e00a905cce2172b30c9', 'dataset/3c243889b1c547418c69b234216cea7d', 'dataset/36d8e15f7e164b5c980492c4c6019322', 'dataset/b676104c35e54ddf9579d67765f6d4a2', 'dataset/05d77af9b4ce4de5b0f631f685601d41', 'dataset/80be680d12c84471a3169d1e80b5d7ec', 'dataset/319c7f878ccb4d53948c4b338cc1732a', 'dataset/05e84e3f8e6344f5baaf003543df8d3a', 'dataset/9329bc5c6bd24234969dfb50a1a9ca87', 'dataset/50b8db359b164716b59c5e3a9fd001f7', 'dataset/6b89f5b57aad44de9dc40896b024fad4', 'dataset/744055ae2e9e4d379108bbdbfab4dae5', 'dataset/baeac84e5d074afa9d6b7a9e9b82d8ac', 'dataset/0c69c12c3544409f82fbcc522fb522f8', 'dataset/cebaaf0546e94fcb96c1a186838a73af', 'dataset/e11100236f0d4c1398f1e554a3560331', 'dataset/6ae20e8b86424bc4a624abb83aa2c9f7', 'dataset/2cc97c9c49cb4f03ae978d1eb73f304b', 'dataset/8036631b52854bdda33a928371100eca', 'dataset/d456335e901547d78d5a11e14155353f', 'dataset/80b077000f3442dd9aba3339a0fb237c', 'dataset/7c6b6801ba3245bbb10dc6a7b9996d88', 'dataset/64a48116536441ee926f0430ca699153', 'dataset/3ef8c45b30ec40cb90526280c04dec0a', 'dataset/149797134bae4deaac692a73bf162fe9', 'dataset/bbdaa54f85c34395b9dd512f068a1229', 'dataset/a50942013ca04ebdb2f9b172ca373f2c', 'dataset/c308cc95412b428db8d4020a6ab826d5', 'dataset/662b0d4736bf4e60858cd03cd107af90', 'dataset/a75222d8b947422eae2b4efc35296423', 'dataset/9862478b2a6e4afc82af7fd08873a0b4', 'dataset/d621bfd6fb614aa792e08d7e4cfa897a', 'dataset/0e7047653b014264b33c1c3620e506f8', 'dataset/7a45e3e8ed4b4774ae98254fd364f2ca', 'dataset/0e55dc4aec5e442f86b809cacdec3b68', 'dataset/b078965557a54caaa856046ca7c30291', 'dataset/04b7b555cd6d4d41bc2ec8ed6ee259e0', 'dataset/49102755134149d98bec4d88dec02a3c', 'dataset/c823b3cc2ed0484d9759cac9981031ed']\n"
     ]
    }
   ],
   "source": [
    "print(dirs)"
   ]
  },
  {
   "cell_type": "code",
   "execution_count": null,
   "metadata": {},
   "outputs": [],
   "source": []
  }
 ],
 "metadata": {
  "kernelspec": {
   "display_name": "Python 3",
   "language": "python",
   "name": "python3"
  },
  "language_info": {
   "codemirror_mode": {
    "name": "ipython",
    "version": 3
   },
   "file_extension": ".py",
   "mimetype": "text/x-python",
   "name": "python",
   "nbconvert_exporter": "python",
   "pygments_lexer": "ipython3",
   "version": "3.5.3"
  }
 },
 "nbformat": 4,
 "nbformat_minor": 2
}
