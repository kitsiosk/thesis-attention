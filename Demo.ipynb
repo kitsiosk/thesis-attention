{
 "cells": [
  {
   "cell_type": "code",
   "execution_count": 1,
   "metadata": {},
   "outputs": [],
   "source": [
    "import numpy as np\n",
    "import cv2\n",
    "import dlib\n",
    "import pickle\n",
    "from imutils import face_utils"
   ]
  },
  {
   "cell_type": "code",
   "execution_count": 32,
   "metadata": {},
   "outputs": [],
   "source": [
    "with open('classifier.pickle', 'rb') as f:\n",
    "    classifier = pickle.load(f)\n",
    "with open('mean.pickle', 'rb') as f:\n",
    "    m = pickle.load(f)\n",
    "with open('std.pickle', 'rb') as f:\n",
    "    std = pickle.load(f)"
   ]
  },
  {
   "cell_type": "code",
   "execution_count": 43,
   "metadata": {},
   "outputs": [],
   "source": [
    "# Directory of the pretrained model\n",
    "p = \"shape_predictor_68_face_landmarks.dat\"\n",
    "\n",
    "detector = dlib.get_frontal_face_detector()\n",
    "predictor = dlib.shape_predictor(p)\n",
    "\n",
    "image = cv2.imread('demo.jpg')\n",
    "gray = cv2.cvtColor(image, cv2.COLOR_BGR2GRAY)\n",
    "\n",
    "# Get faces into webcam's image\n",
    "rects = detector(gray, 0)\n",
    "\n",
    "for rect in rects:\n",
    "    # Make the prediction and transfom it to numpy array\n",
    "    shape = predictor(gray, rect)\n",
    "    landmarks = face_utils.shape_to_np(shape)"
   ]
  },
  {
   "cell_type": "code",
   "execution_count": 44,
   "metadata": {},
   "outputs": [],
   "source": [
    "# 3D model points.\n",
    "model_points = np.array([\n",
    "                            (0.0, 0.0, 0.0),             # Nose tip\n",
    "                            (0.0, -330.0, -65.0),        # Chin\n",
    "                            (-225.0, 170.0, -135.0),     # Left eye left corner\n",
    "                            (225.0, 170.0, -135.0),      # Right eye right corne\n",
    "                            (-150.0, -150.0, -125.0),    # Left Mouth corner\n",
    "                            (150.0, -150.0, -125.0)      # Right mouth corner\n",
    "                        ])\n",
    "size = image.shape\n",
    "focal_length = size[1]\n",
    "center = (size[1]/2, size[0]/2)\n",
    "camera_matrix = np.array(\n",
    "                         [[focal_length, 0, center[0]],\n",
    "                         [0, focal_length, center[1]],\n",
    "                         [0, 0, 1]], dtype = \"double\"\n",
    "                         )\n",
    "dist_coeffs = np.zeros((4,1)) # Assuming no lens distortion\n",
    "\n",
    "# Grab the 2D coordinates of our six sample points\n",
    "image_points = np.array([\n",
    "    (landmarks[33][0], landmarks[33][1]) ,     # Nose tip\n",
    "    (landmarks[8][0], landmarks[8][1]),     # Chin\n",
    "    (landmarks[36][0], landmarks[36][1]),     # Left eye left corner\n",
    "    (landmarks[45][0], landmarks[45][1]),     # Right eye right corner\n",
    "    (landmarks[48][0], landmarks[48][1]),     # Left Mouth corner\n",
    "    (landmarks[54][0], landmarks[54][1])      # Right mouth corner\n",
    "], dtype=\"double\")"
   ]
  },
  {
   "cell_type": "code",
   "execution_count": 45,
   "metadata": {},
   "outputs": [],
   "source": [
    "# Solve the PnP problem with the parameters specified above\n",
    "# and obtain rotation and translation vectors\n",
    "(success, rotation_vector, translation_vector) = cv2.solvePnP(\n",
    "    model_points, image_points, camera_matrix, dist_coeffs, flags=cv2.SOLVEPNP_ITERATIVE\n",
    "    )"
   ]
  },
  {
   "cell_type": "code",
   "execution_count": 50,
   "metadata": {},
   "outputs": [
    {
     "name": "stdout",
     "output_type": "stream",
     "text": [
      "[[-0.30568279 -0.04698829 -0.36194454  0.3299144   0.40853588 -0.91300547]]\n"
     ]
    }
   ],
   "source": [
    "x = np.concatenate((rotation_vector, translation_vector), axis=0)\n",
    "x = x.squeeze()\n",
    "x = (x-m)/std\n",
    "x = x.reshape(1, -1)\n",
    "print(x)"
   ]
  },
  {
   "cell_type": "code",
   "execution_count": 48,
   "metadata": {},
   "outputs": [
    {
     "name": "stdout",
     "output_type": "stream",
     "text": [
      "[1.]\n"
     ]
    }
   ],
   "source": [
    "x = np.array([-0.3950592, 0.00481095, 0.10784691, 0.73003738, 1.6652573 , -0.16816019])\n",
    "x = x.reshape(1, -1)\n",
    "y_hat = classifier.predict(x)\n",
    "print(y_hat)"
   ]
  },
  {
   "cell_type": "code",
   "execution_count": null,
   "metadata": {},
   "outputs": [],
   "source": []
  }
 ],
 "metadata": {
  "kernelspec": {
   "display_name": "Python 3",
   "language": "python",
   "name": "python3"
  },
  "language_info": {
   "codemirror_mode": {
    "name": "ipython",
    "version": 3
   },
   "file_extension": ".py",
   "mimetype": "text/x-python",
   "name": "python",
   "nbconvert_exporter": "python",
   "pygments_lexer": "ipython3",
   "version": "3.5.3"
  }
 },
 "nbformat": 4,
 "nbformat_minor": 2
}
