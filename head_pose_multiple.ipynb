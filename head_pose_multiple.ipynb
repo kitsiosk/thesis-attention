{
 "cells": [
  {
   "cell_type": "markdown",
   "metadata": {},
   "source": [
    "# Attention Prediction in a non-calibrated system\n",
    "The purpose of this notebook is to predict user attention, that is decide wether the user's attention is on the laptop screen or not, using only frames from the laptop camera in real time. For this purpose we have created a dataset with labeled frames(1: looking, 0: not looking) and performed some preproccessing steps in order to extract 68 facial landmarks on the face and the 2 iris points. Below, we will try out different data architectures and classifiers to get the best performance.\n",
    "\n",
    "In order to achieve real time performance we cannot afford time calibrating the camera, so we wll _approximate a mapping between the 2D camera points and the 3D world_ by solving the [Perspective-n-Point](https://en.wikipedia.org/wiki/Perspective-n-Point) problem using the built-in openCV method solvePnP. This way we will obtain the Rotation and Translation matrix(3x1 each) for each frame and afterwards we will use them in different architectures to train a machine learning model that will predict the final output. The architectures presented below are:\n",
    " - Feed the raw two vectors in a classifier.\n",
    " - Feed the two vectors and the 2 iris points."
   ]
  },
  {
   "cell_type": "markdown",
   "metadata": {},
   "source": [
    "### Import packages"
   ]
  },
  {
   "cell_type": "code",
   "execution_count": 2,
   "metadata": {},
   "outputs": [],
   "source": [
    "import numpy as np\n",
    "import cv2\n",
    "import dlib\n",
    "from imutils import face_utils\n",
    "import glob\n",
    "from random import shuffle\n",
    "from sklearn.model_selection import train_test_split\n",
    "from sklearn import metrics\n",
    "import json"
   ]
  },
  {
   "cell_type": "markdown",
   "metadata": {},
   "source": [
    "### 3D Model points for SolvePnP\n",
    "We will approximate the 3D points of the following face parts with the correspoinding coordinates. This is a general model of the human face and we do not need to worry much about absolute accuracy."
   ]
  },
  {
   "cell_type": "code",
   "execution_count": 3,
   "metadata": {},
   "outputs": [],
   "source": [
    "# 3D model points.\n",
    "model_points = np.array([\n",
    "                            (0.0, 0.0, 0.0),             # Nose tip\n",
    "                            (0.0, -330.0, -65.0),        # Chin\n",
    "                            (-225.0, 170.0, -135.0),     # Left eye left corner\n",
    "                            (225.0, 170.0, -135.0),      # Right eye right corne\n",
    "                            (-150.0, -150.0, -125.0),    # Left Mouth corner\n",
    "                            (150.0, -150.0, -125.0)      # Right mouth corner\n",
    "                         \n",
    "                        ])"
   ]
  },
  {
   "cell_type": "markdown",
   "metadata": {},
   "source": [
    "### Load Dataset"
   ]
  },
  {
   "cell_type": "code",
   "execution_count": 4,
   "metadata": {},
   "outputs": [
    {
     "name": "stdout",
     "output_type": "stream",
     "text": [
      "(3084,)\n",
      "(3084,)\n"
     ]
    }
   ],
   "source": [
    "# Number of training examples to use(0-3084)\n",
    "DATASET_SIZE = 3084\n",
    "DEBUG = False\n",
    "\n",
    "# Load the dataset\n",
    "with open('data.json') as json_file:\n",
    "    data_all = json.load(json_file)\n",
    "\n",
    "# Extract the keys in sorted order\n",
    "keys = sorted(data_all)\n",
    "\n",
    "# Convert python list to np array\n",
    "keys = np.asarray(keys)\n",
    "print(keys.shape)\n",
    "\n",
    "# Uncomment if you want to use a smaller dataset and not the full one\n",
    "# rand_indices = np.random.randint(3084, size=DATASET_SIZE)\n",
    "# keys = keys[rand_indices]\n",
    "print(keys.shape)"
   ]
  },
  {
   "cell_type": "markdown",
   "metadata": {},
   "source": [
    "***"
   ]
  },
  {
   "cell_type": "markdown",
   "metadata": {},
   "source": [
    "# Architecture #1\n",
    "\n",
    "#### In this data architecture we will use as input the translation vector and rotation vector, each one of shape (3, 1) so a signle training example of our dataset will be of shape (6, 1). "
   ]
  },
  {
   "cell_type": "code",
   "execution_count": 5,
   "metadata": {},
   "outputs": [
    {
     "name": "stdout",
     "output_type": "stream",
     "text": [
      "(3084, 6)\n",
      "(3084,)\n"
     ]
    }
   ],
   "source": [
    "X = np.zeros((DATASET_SIZE, 6, 1))\n",
    "y = np.zeros(DATASET_SIZE)\n",
    "\n",
    "for i in range(DATASET_SIZE):\n",
    "    key = keys[i]\n",
    "        \n",
    "    # Check if it is positive or negative example\n",
    "    output = key.split('/')[1]\n",
    "    if(output == 'positive'):\n",
    "        y[i] = 1\n",
    "    elif(output == 'negative'):\n",
    "        y[i] = 0\n",
    "        \n",
    "    # Approximate camera intrinsic parameters\n",
    "    im = cv2.imread('dataset/' + key)\n",
    "    size = im.shape\n",
    "    focal_length = size[1]\n",
    "    center = (size[1]/2, size[0]/2)\n",
    "    camera_matrix = np.array(\n",
    "                             [[focal_length, 0, center[0]],\n",
    "                             [0, focal_length, center[1]],\n",
    "                             [0, 0, 1]], dtype = \"double\"\n",
    "                             )\n",
    "    dist_coeffs = np.zeros((4,1)) # Assuming no lens distortion\n",
    "    \n",
    "    landmarks = data_all[key]['landmarks']\n",
    "    \n",
    "    # Grab the 2D coordinates of our six sample points\n",
    "    image_points = np.array([\n",
    "        (landmarks[33]['x'], landmarks[33]['y']) ,     # Nose tip\n",
    "        (landmarks[8]['x'], landmarks[8]['y']),     # Chin\n",
    "        (landmarks[36]['x'], landmarks[36]['y']),     # Left eye left corner\n",
    "        (landmarks[45]['x'], landmarks[45]['y']),     # Right eye right corner\n",
    "        (landmarks[48]['x'], landmarks[48]['y']),     # Left Mouth corner\n",
    "        (landmarks[54]['x'], landmarks[54]['y'])      # Right mouth corner\n",
    "    ], dtype=\"double\")\n",
    "    \n",
    "    # Solve the PnP problem with the parameters specified above\n",
    "    # and obtain rotation and translation vectors\n",
    "    (success, rotation_vector, translation_vector) = cv2.solvePnP(\n",
    "        model_points, image_points, camera_matrix, dist_coeffs, flags=cv2.SOLVEPNP_ITERATIVE\n",
    "        )\n",
    "    \n",
    "    X[i, :] = np.concatenate((rotation_vector, translation_vector), axis=0)\n",
    "    \n",
    "    # DEBUGGING\n",
    "    if(DEBUG and i <= 10):\n",
    "        # Project a 3D point (0, 0, 1000.0) onto the image plane.\n",
    "        # We use this to draw a line sticking out of the nose\n",
    "        (nose_end_point2D, jacobian) = cv2.projectPoints(\n",
    "            np.array([(0.0, 0.0, 500.0)]), rotation_vector, translation_vector, camera_matrix, dist_coeffs\n",
    "            )\n",
    "        for p in image_points:\n",
    "            cv2.circle(im, (int(p[0]), int(p[1])), 3, (0,0,255), -1)\n",
    "        p1 = ( int(image_points[0][0]), int(image_points[0][1]) )\n",
    "        p2 = ( int(nose_end_point2D[0][0][0]), int(nose_end_point2D[0][0][1]) )\n",
    "        \n",
    "        # Draw a line connecting the two points. This line must show\n",
    "        # the direction out of the nose\n",
    "        cv2.line(im, p1, p2, (255,0,0), 2)\n",
    "        # Display image\n",
    "        cv2.imshow(\"Output\", im)\n",
    "        cv2.waitKey(0)\n",
    "        cv2.destroyAllWindows()\n",
    "        print(\"Rotation Vector:\\n {0}\".format(rotation_vector))\n",
    "        print(\"Translation Vector:\\n {0}\".format(translation_vector))\n",
    "\n",
    "\n",
    "X = X.squeeze()\n",
    "print(X.shape)\n",
    "print(y.shape)"
   ]
  },
  {
   "cell_type": "markdown",
   "metadata": {},
   "source": [
    "#### Data Preproccessing: Normalize features to have 0 mean and 1 Std\n",
    "We obtain the mean and std from the first 800 examples and not the whole dataset beacause computations crush with too many exmaples and give infinite mean and std"
   ]
  },
  {
   "cell_type": "code",
   "execution_count": 6,
   "metadata": {},
   "outputs": [
    {
     "name": "stdout",
     "output_type": "stream",
     "text": [
      "[[-3.00551937e+00  1.45078022e-01  4.76767504e-01  7.95712968e+01\n",
      "  -3.92782853e+01  2.76019804e+03]\n",
      " [-3.04554883e+00  9.05243587e-02 -3.07827588e-01  1.95291887e+02\n",
      "  -2.31782775e+00  2.75736773e+03]\n",
      " [-3.00660977e+00  1.51251722e-01  5.22350233e-01  9.21191347e+01\n",
      "  -3.85456010e+01  2.76212599e+03]\n",
      " [-3.00558778e+00  8.01227450e-02 -2.23640283e-01  2.10849908e+02\n",
      "   7.66908812e+01  2.71377602e+03]\n",
      " [-3.01596605e+00  9.21469966e-02 -1.64322200e-01  1.97475436e+02\n",
      "   5.58485825e+01  2.73608906e+03]]\n"
     ]
    }
   ],
   "source": [
    "print(X[1000:1005, :])"
   ]
  },
  {
   "cell_type": "markdown",
   "metadata": {},
   "source": [
    "#####  Before normalization:"
   ]
  },
  {
   "cell_type": "code",
   "execution_count": 7,
   "metadata": {},
   "outputs": [
    {
     "name": "stdout",
     "output_type": "stream",
     "text": [
      "Mean:  [-2.57750853e+00  2.59756409e-02  6.94960123e-02  1.70568095e+02\n",
      "  5.29112770e+00  2.27197605e+03]\n",
      "Std:  [1.22773270e+00 6.42579433e-01 4.13830849e-01 2.61512303e+02\n",
      " 1.73896971e+02 9.22001517e+02]\n"
     ]
    }
   ],
   "source": [
    "m = X[0:1000, :].mean(axis=0)\n",
    "std = X[0:1000, :].std(axis=0)\n",
    "\n",
    "print('Mean: ', m)\n",
    "print('Std: ', std)"
   ]
  },
  {
   "cell_type": "code",
   "execution_count": 8,
   "metadata": {},
   "outputs": [],
   "source": [
    "X_scaled = (X-m)/std"
   ]
  },
  {
   "cell_type": "markdown",
   "metadata": {},
   "source": [
    "##### After normalization:"
   ]
  },
  {
   "cell_type": "code",
   "execution_count": 9,
   "metadata": {},
   "outputs": [
    {
     "name": "stdout",
     "output_type": "stream",
     "text": [
      "Mean: [-0.15021119  0.00829007 -0.14881449  0.57646358 -0.49718561 -0.51012038]\n",
      "Std:  [1. 1. 1. 1. 1. 1.]\n",
      "(3084,)\n"
     ]
    }
   ],
   "source": [
    "print('Mean:', X_scaled[2000:2500].mean(axis=0))\n",
    "print('Std: ', X_scaled[0:1000].std(axis=0))\n",
    "print(y.shape)"
   ]
  },
  {
   "cell_type": "markdown",
   "metadata": {},
   "source": [
    "### Shuffle and split dataset"
   ]
  },
  {
   "cell_type": "code",
   "execution_count": 10,
   "metadata": {},
   "outputs": [
    {
     "name": "stdout",
     "output_type": "stream",
     "text": [
      "(617,)\n",
      "[[ 2.03885259  3.56580036 -0.18383844  1.98496006  2.07709054 -5.10066859]\n",
      " [-0.23773101  0.17326135 -0.40743638  1.17948737 -0.1525981  -0.74234694]\n",
      " [-0.37076773  0.22695155  0.58478046  0.44834344  1.29502932 -0.18483583]\n",
      " [-0.20603819  0.25720197 -0.73779234 -0.26596978 -0.21049899  0.7113609 ]\n",
      " [-0.25452611  0.09243677 -0.37762025  0.30181668 -0.80063143 -0.53737714]]\n"
     ]
    }
   ],
   "source": [
    "X_train, X_test, y_train, y_test = train_test_split(X_scaled, y, test_size=0.2)\n",
    "\n",
    "print(y_test.shape)\n",
    "print(X_train[0:5, :])"
   ]
  },
  {
   "cell_type": "markdown",
   "metadata": {},
   "source": [
    "# Train different classifiers\n",
    "Here we will try out 3 classifiers and compare their results:\n",
    " - A SVM with rbf kernel and penalty parameter C=100\n",
    " - A Logistic Regression classifer\n",
    " - A Random Forest Classifier"
   ]
  },
  {
   "cell_type": "markdown",
   "metadata": {},
   "source": [
    "### SVM Classifier"
   ]
  },
  {
   "cell_type": "code",
   "execution_count": 13,
   "metadata": {},
   "outputs": [
    {
     "name": "stdout",
     "output_type": "stream",
     "text": [
      "Training set accuracy for SVM: 0.7012565869477098\n",
      "Test set accuracy for SVM:  0.6450567260940032\n"
     ]
    }
   ],
   "source": [
    "from sklearn import svm\n",
    "    \n",
    "svm_classifier = svm.SVC(C=100, kernel='rbf', gamma='auto')\n",
    "svm_classifier.fit(X_train, y_train)\n",
    "y_pred_svm = svm_classifier.predict(X_test)\n",
    "\n",
    "print('Training set accuracy for SVM:', svm_classifier.score(X_train, y_train))\n",
    "print('Test set accuracy for SVM: ', metrics.accuracy_score(y_test, y_pred_svm))"
   ]
  },
  {
   "cell_type": "markdown",
   "metadata": {},
   "source": [
    "### Logistic Regression Classifier"
   ]
  },
  {
   "cell_type": "code",
   "execution_count": 14,
   "metadata": {},
   "outputs": [
    {
     "name": "stdout",
     "output_type": "stream",
     "text": [
      "Training set accuracy for Logistic Regression: 0.5265504661532225\n",
      "Test set accuracy for Logistic Regression:  0.5153970826580226\n"
     ]
    }
   ],
   "source": [
    "from sklearn.linear_model import LogisticRegression\n",
    "\n",
    "\n",
    "lr_classifier = LogisticRegression(solver='lbfgs')\n",
    "lr_classifier.fit(X_train, y_train)\n",
    "y_pred_lr = lr_classifier.predict(X_test)\n",
    "\n",
    "print('Training set accuracy for Logistic Regression:', lr_classifier.score(X_train, y_train))\n",
    "print('Test set accuracy for Logistic Regression: ', metrics.accuracy_score(y_test, y_pred_lr))"
   ]
  },
  {
   "cell_type": "markdown",
   "metadata": {},
   "source": [
    "### Random Forst Classifier"
   ]
  },
  {
   "cell_type": "code",
   "execution_count": 15,
   "metadata": {},
   "outputs": [
    {
     "name": "stdout",
     "output_type": "stream",
     "text": [
      "Training set accuracy for Random Forst: 1.0\n",
      "Test set accuracy for Random Forest:  0.747163695299838\n"
     ]
    }
   ],
   "source": [
    "from sklearn.ensemble import RandomForestClassifier\n",
    "    \n",
    "rf_classifier = RandomForestClassifier(n_estimators=100, random_state=1)\n",
    "rf_classifier.fit(X_train, y_train)\n",
    "y_pred_rf = rf_classifier.predict(X_test)\n",
    "\n",
    "print('Training set accuracy for Random Forst:', rf_classifier.score(X_train, y_train))\n",
    "print('Test set accuracy for Random Forest: ', metrics.accuracy_score(y_test, y_pred_rf))"
   ]
  },
  {
   "cell_type": "markdown",
   "metadata": {},
   "source": [
    "## Visualize & Summarize results for Architecture #1"
   ]
  },
  {
   "cell_type": "markdown",
   "metadata": {},
   "source": [
    "We trained the 3 classifiers for 10 different train/test splits and the accuracy results are shown below"
   ]
  },
  {
   "cell_type": "code",
   "execution_count": 57,
   "metadata": {},
   "outputs": [
    {
     "data": {
      "image/png": "[encoded data removed]",
      "text/plain": [
       "<Figure size 432x288 with 1 Axes>"
      ]
     },
     "metadata": {},
     "output_type": "display_data"
    }
   ],
   "source": [
    "### NOTE: Y1, Y2, Y3 removed from notebook now, so don't run this cell it is just for reference\n",
    "import matplotlib.pyplot as plt\n",
    "\n",
    "t = np.linspace(0, 10, 10)\n",
    "plt.plot(t, Y1, 'r')\n",
    "plt.plot(t, Y2, 'g')\n",
    "plt.plot(t, Y3, 'b')\n",
    "plt.xlabel('classifier No')\n",
    "plt.ylabel('Test set Accuracy')\n",
    "plt.legend(('SVM', 'LR', 'RF'))\n",
    "\n",
    "plt.show()"
   ]
  },
  {
   "cell_type": "markdown",
   "metadata": {},
   "source": [
    "The best out of 10 scores for each classifier is presented below\n",
    "\n",
    "Metric                | SVM        | Logistic Regression | Random Forest |\n",
    ":----:                | :--------: | :-----------------: | :-----:       |\n",
    "Training set Accuracy | 0.701      | 0.580               | 1             | \n",
    "Test set Accuracty    | 0.640      | 0.581               | 0.726         |\n",
    "\n",
    "We clearly see that the Random Forest classifier with 100 trees outperfomrs the other 2, reaching 72,6% accuracy!"
   ]
  },
  {
   "cell_type": "markdown",
   "metadata": {},
   "source": [
    "# Architecture #2\n",
    "#### In this data architecture we will use as input the translation vector and rotation vector plus the 2 iris points) so a signle training example of our dataset will be of shape (10, 1). \n",
    "We already have the array X of shape (6, 1) containing the rotation and translation vectors stacked so we only need to extract the iris points from our data.json."
   ]
  },
  {
   "cell_type": "code",
   "execution_count": 16,
   "metadata": {},
   "outputs": [
    {
     "name": "stdout",
     "output_type": "stream",
     "text": [
      "(3084, 10)\n"
     ]
    }
   ],
   "source": [
    "DATASET_SIZE = 3084\n",
    "X2 = np.zeros((DATASET_SIZE, 10))\n",
    "for i in range(DATASET_SIZE):\n",
    "    key = keys[i]\n",
    "    iris_right = np.asarray(data_all[key]['iris_right'])\n",
    "    iris_left = np.asarray(data_all[key]['iris_left'])\n",
    "#     iris = np.concatenate((iris_left, iris_right), axis = 0)\n",
    "    X2[i, :] = np.concatenate((X[i, :], iris_left, iris_right), axis = 0)\n",
    "print(X2.shape)"
   ]
  },
  {
   "cell_type": "markdown",
   "metadata": {},
   "source": [
    "The following steps are the same as for the first architecture"
   ]
  },
  {
   "cell_type": "code",
   "execution_count": 17,
   "metadata": {
    "collapsed": true
   },
   "outputs": [
    {
     "name": "stdout",
     "output_type": "stream",
     "text": [
      "[[-3.00551937e+00  1.45078022e-01  4.76767504e-01  7.95712968e+01\n",
      "  -3.92782853e+01  2.76019804e+03  6.25004729e+02  2.55122853e+02\n",
      "   7.52216725e+02  2.41467233e+02]\n",
      " [-3.04554883e+00  9.05243587e-02 -3.07827588e-01  1.95291887e+02\n",
      "  -2.31782775e+00  2.75736773e+03  6.51599474e+02  2.74633597e+02\n",
      "   7.80190422e+02  2.66374984e+02]\n",
      " [-3.00660977e+00  1.51251722e-01  5.22350233e-01  9.21191347e+01\n",
      "  -3.85456010e+01  2.76212599e+03  6.30616018e+02  2.55011379e+02\n",
      "   7.57703846e+02  2.43255612e+02]\n",
      " [-3.00558778e+00  8.01227450e-02 -2.23640283e-01  2.10849908e+02\n",
      "   7.66908812e+01  2.71377602e+03  6.60564201e+02  3.02714393e+02\n",
      "   7.92862665e+02  2.95378319e+02]\n",
      " [-3.01596605e+00  9.21469966e-02 -1.64322200e-01  1.97475436e+02\n",
      "   5.58485825e+01  2.73608906e+03  6.54926899e+02  2.94318558e+02\n",
      "   7.88320997e+02  2.85512182e+02]]\n"
     ]
    }
   ],
   "source": [
    "print(X2[1000:1005])"
   ]
  },
  {
   "cell_type": "code",
   "execution_count": 20,
   "metadata": {},
   "outputs": [],
   "source": [
    "m = X2[0:1000, :].mean(axis=0)\n",
    "std = X2[0:1000, :].std(axis=0)\n",
    "\n",
    "X2_scaled = (X2-m)/std"
   ]
  },
  {
   "cell_type": "code",
   "execution_count": 21,
   "metadata": {},
   "outputs": [
    {
     "name": "stdout",
     "output_type": "stream",
     "text": [
      "(617,)\n",
      "[[-0.30489747  0.44995405 -0.03207482  0.05471082  1.71536595  1.31645203\n",
      "   1.23072256  2.24415699  1.19848843  2.16262291]\n",
      " [-0.30804064 -0.04174062 -1.08036672  0.060418   -0.04080742 -0.66831093\n",
      "  -0.52168359 -0.56599168 -0.4454114  -0.53480614]\n",
      " [-0.16597413  0.07393728  1.19308561  0.62562851  0.28793835 -0.64609178\n",
      "  -0.12759805 -0.35122837 -0.03019726 -0.33639984]\n",
      " [-0.33035783 -0.0408077  -0.23098623 -0.19463542 -1.11718155 -0.43345632\n",
      "  -0.61372257 -1.10051383 -0.5810407  -1.15838966]\n",
      " [-0.21075689  0.26413389  0.69838829 -0.48411698 -0.42189342 -0.5054249\n",
      "  -0.7397101  -0.70185695 -0.69339691 -0.85616095]]\n"
     ]
    }
   ],
   "source": [
    "X2_train, X2_test, y2_train, y2_test = train_test_split(X2_scaled, y, test_size=0.2)\n",
    "print(y2_test.shape)\n",
    "print(X2_train[0:5, :])"
   ]
  },
  {
   "cell_type": "markdown",
   "metadata": {},
   "source": [
    "# Train different classifiers\n",
    "Here we will try out 3 classifiers and compare their results:\n",
    " - A SVM with rbf kernel and penalty parameter C=100\n",
    " - A Logistic Regression classifer\n",
    " - A Random Forest Classifier"
   ]
  },
  {
   "cell_type": "markdown",
   "metadata": {},
   "source": [
    "### SVM classifier"
   ]
  },
  {
   "cell_type": "code",
   "execution_count": 39,
   "metadata": {},
   "outputs": [
    {
     "name": "stdout",
     "output_type": "stream",
     "text": [
      "Training set accuracy for SVM: 0.7450344548034049\n",
      "Test set accuracy for SVM:  0.7163695299837926\n"
     ]
    }
   ],
   "source": [
    "from sklearn import svm\n",
    "\n",
    "svm_classifier2 = svm.SVC(C=100, kernel='rbf', gamma='auto')\n",
    "svm_classifier2.fit(X2_train, y2_train)\n",
    "y2_pred_svm = svm_classifier2.predict(X2_test)\n",
    "\n",
    "print('Training set accuracy for SVM:', svm_classifier2.score(X2_train, y2_train))\n",
    "print('Test set accuracy for SVM: ', metrics.accuracy_score(y2_test, y2_pred_svm))"
   ]
  },
  {
   "cell_type": "markdown",
   "metadata": {},
   "source": [
    "### Logistic Regression Classifier"
   ]
  },
  {
   "cell_type": "code",
   "execution_count": 40,
   "metadata": {},
   "outputs": [
    {
     "name": "stdout",
     "output_type": "stream",
     "text": [
      "Training set accuracy for Logistic Regression: 0.4702067288204297\n",
      "Test set accuracy for Logistic Regression:  0.47649918962722854\n"
     ]
    }
   ],
   "source": [
    "from sklearn.linear_model import LogisticRegression\n",
    "\n",
    "lr_classifier2 = LogisticRegression(solver='lbfgs')\n",
    "lr_classifier2.fit(X2_train, y2_train)\n",
    "y2_pred_lr = lr_classifier2.predict(X2_test)\n",
    "\n",
    "print('Training set accuracy for Logistic Regression:', lr_classifier2.score(X2_train, y2_train))\n",
    "print('Test set accuracy for Logistic Regression: ', metrics.accuracy_score(y2_test, y2_pred_lr))"
   ]
  },
  {
   "cell_type": "markdown",
   "metadata": {},
   "source": [
    "### Random Forest Classifier"
   ]
  },
  {
   "cell_type": "code",
   "execution_count": 41,
   "metadata": {},
   "outputs": [
    {
     "name": "stdout",
     "output_type": "stream",
     "text": [
      "Training set accuracy for Random Forst: 1.0\n",
      "Test set accuracy for Random Forest:  0.7406807131280388\n"
     ]
    }
   ],
   "source": [
    "from sklearn.ensemble import RandomForestClassifier\n",
    "\n",
    "rf_classifier2 = RandomForestClassifier(n_estimators=100, random_state=1)\n",
    "rf_classifier2.fit(X2_train, y2_train)\n",
    "y2_pred_rf = rf_classifier2.predict(X2_test)\n",
    "\n",
    "print('Training set accuracy for Random Forst:', rf_classifier2.score(X2_train, y2_train))\n",
    "print('Test set accuracy for Random Forest: ', metrics.accuracy_score(y2_test, y2_pred_rf))"
   ]
  },
  {
   "cell_type": "markdown",
   "metadata": {},
   "source": [
    "## Visualize & Summarize results for Architecture #2\n"
   ]
  },
  {
   "cell_type": "markdown",
   "metadata": {},
   "source": [
    "We trained the 3 classifiers for 25 different train/test splits and the accuracy results are shown below"
   ]
  },
  {
   "cell_type": "code",
   "execution_count": 42,
   "metadata": {},
   "outputs": [
    {
     "data": {
      "image/png": "[encoded data removed]",
      "text/plain": [
       "<Figure size 432x288 with 1 Axes>"
      ]
     },
     "metadata": {
      "needs_background": "light"
     },
     "output_type": "display_data"
    },
    {
     "name": "stdout",
     "output_type": "stream",
     "text": [
      "0.7163695299837926 0.5883306320907618 0.7698541329011345\n"
     ]
    }
   ],
   "source": [
    "### NOTE: Y1, Y2, Y3 removed from notebook now, so don't run this cell it is just for reference\n",
    "import matplotlib.pyplot as plt\n",
    "\n",
    "t = np.linspace(0, N, N)\n",
    "plt.plot(t, Y1, 'r')\n",
    "plt.plot(t, Y2, 'g')\n",
    "plt.plot(t, Y3, 'b')\n",
    "plt.xlabel('classifier No')\n",
    "plt.ylabel('Test set Accuracy')\n",
    "plt.legend(('SVM', 'LR', 'RF'))\n",
    "\n",
    "plt.show()\n",
    "print(Y1.max(axis=0), Y2.max(axis=0), Y3.max(axis=0))"
   ]
  },
  {
   "cell_type": "markdown",
   "metadata": {},
   "source": [
    "Metric                | SVM        | Logistic Regression | Random Forest |\n",
    ":----:                | :--------: | :-----------------: | :-----:       |\n",
    "Training set Accuracy | 0.752      | 0.533               | 1             | \n",
    "Test set Accuracty    | 0.716      | 0.588               | 0.770         |\n",
    "\n",
    "The difference with the first architecture is obvious! The SVM is much more accurate now approaching the Random Forest accuracy, which also improved in but not as much as the SVM. Also the Logistic Regression classifier seems unable to handle our Dataset in both situations so we will not consinder it for the next of our research. The best accuracy scored is achieved by Random Forest classifier and the second data architecture, reaching 77%!"
   ]
  }
 ],
 "metadata": {
  "kernelspec": {
   "display_name": "Python 3",
   "language": "python",
   "name": "python3"
  },
  "language_info": {
   "codemirror_mode": {
    "name": "ipython",
    "version": 3
   },
   "file_extension": ".py",
   "mimetype": "text/x-python",
   "name": "python",
   "nbconvert_exporter": "python",
   "pygments_lexer": "ipython3",
   "version": "3.5.3"
  }
 },
 "nbformat": 4,
 "nbformat_minor": 2
}
