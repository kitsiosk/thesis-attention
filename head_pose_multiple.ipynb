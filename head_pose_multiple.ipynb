{
 "cells": [
  {
   "cell_type": "code",
   "execution_count": 1,
   "metadata": {},
   "outputs": [],
   "source": [
    "import numpy as np\n",
    "import cv2\n",
    "import dlib\n",
    "from imutils import face_utils\n",
    "import glob\n",
    "from random import shuffle\n",
    "from sklearn.model_selection import train_test_split\n",
    "from sklearn import svm, metrics\n",
    "import json"
   ]
  },
  {
   "cell_type": "markdown",
   "metadata": {},
   "source": [
    "### Load the pretrained Dlib model for face landmarks"
   ]
  },
  {
   "cell_type": "code",
   "execution_count": 2,
   "metadata": {},
   "outputs": [],
   "source": [
    "# Directory of the pretrained model\n",
    "p = \"shape_predictor_68_face_landmarks.dat\"\n",
    "\n",
    "# Pretrained dlib model\n",
    "detector = dlib.get_frontal_face_detector()\n",
    "predictor = dlib.shape_predictor(p)\n",
    "\n",
    "# Change hardcoded size\n",
    "size = (480, 640, 3)"
   ]
  },
  {
   "cell_type": "markdown",
   "metadata": {},
   "source": [
    "### Define the 3D points in World Coordinates. These will be the same for all images"
   ]
  },
  {
   "cell_type": "code",
   "execution_count": 3,
   "metadata": {},
   "outputs": [],
   "source": [
    "# 3D model points.\n",
    "model_points = np.array([\n",
    "                            (0.0, 0.0, 0.0),             # Nose tip\n",
    "                            (0.0, -330.0, -65.0),        # Chin\n",
    "                            (-225.0, 170.0, -135.0),     # Left eye left corner\n",
    "                            (225.0, 170.0, -135.0),      # Right eye right corne\n",
    "                            (-150.0, -150.0, -125.0),    # Left Mouth corner\n",
    "                            (150.0, -150.0, -125.0)      # Right mouth corner\n",
    "                         \n",
    "                        ])"
   ]
  },
  {
   "cell_type": "markdown",
   "metadata": {},
   "source": [
    "### Approximate Camera Intrinsic Parameters"
   ]
  },
  {
   "cell_type": "code",
   "execution_count": 4,
   "metadata": {},
   "outputs": [],
   "source": [
    "# Approximate camera intrinsic parameters\n",
    "focal_length = size[1]\n",
    "center = (size[1]/2, size[0]/2)\n",
    "camera_matrix = np.array(\n",
    "                         [[focal_length, 0, center[0]],\n",
    "                         [0, focal_length, center[1]],\n",
    "                         [0, 0, 1]], dtype = \"double\"\n",
    "                         )\n",
    "dist_coeffs = np.zeros((4,1)) # Assuming no lens distortion"
   ]
  },
  {
   "cell_type": "markdown",
   "metadata": {},
   "source": [
    "### Load the dataset"
   ]
  },
  {
   "cell_type": "code",
   "execution_count": null,
   "metadata": {},
   "outputs": [],
   "source": [
    "files_positive = glob.glob('test_dataset/positive/*.jpg')\n",
    "files_negative = glob.glob('test_dataset/negative/*.jpg')\n",
    "\n",
    "X = np.zeros((52, 6, 1))\n",
    "\n",
    "for i in range(len(files_positive) + len(files_negative)):\n",
    "    if i<len(files_positive):\n",
    "        image = cv2.imread(files_positive[i])\n",
    "    else:\n",
    "        image = cv2.imread(files_negative[i-26])\n",
    "    \n",
    "    # Get faces into webcam's image\n",
    "    rects = detector(image, 0)\n",
    "\n",
    "    # Loop over every face detected. Here we only have on face each time\n",
    "    for rect in rects:\n",
    "        # Make the prediction and transfom it to numpy array\n",
    "        shape = predictor(image, rect)\n",
    "        landmarks = face_utils.shape_to_np(shape)\n",
    "        \n",
    "    # Grab the 2D coordinates of our six sample points\n",
    "    image_points = np.array([\n",
    "        landmarks[33, :],     # Nose tip\n",
    "        landmarks[8, :],     # Chin\n",
    "        landmarks[36, :],     # Left eye left corner\n",
    "        landmarks[45, :],     # Right eye right corner\n",
    "        landmarks[48, :],     # Left Mouth corner\n",
    "        landmarks[54, :]      # Right mouth corner\n",
    "    ], dtype=\"double\")\n",
    "\n",
    "    # Solve the PnP problem with the parameters specified above\n",
    "    (success, rotation_vector, translation_vector) = cv2.solvePnP(\n",
    "        model_points, image_points, camera_matrix, dist_coeffs, flags=cv2.SOLVEPNP_ITERATIVE\n",
    "        )\n",
    "#     print(\"Rotation Vector:\\n {0}\".format(rotation_vector))\n",
    "#     print(\"Translation Vector:\\n {0}\".format(translation_vector))\n",
    "    \n",
    "    X[i, :] = np.concatenate((rotation_vector, translation_vector), axis=0)"
   ]
  },
  {
   "cell_type": "markdown",
   "metadata": {},
   "source": [
    "##### Load with json format"
   ]
  },
  {
   "cell_type": "code",
   "execution_count": 5,
   "metadata": {},
   "outputs": [
    {
     "name": "stdout",
     "output_type": "stream",
     "text": [
      "{'x': 452, 'index': 33, 'y': 329}\n"
     ]
    }
   ],
   "source": [
    "with open('data.json') as json_file:\n",
    "    data = json.load(json_file)\n",
    "with open('data_sorted.json') as json_file:\n",
    "    keys = json.load(json_file)\n",
    "\n",
    "print(data[keys[0]]['landmarks'][33])"
   ]
  },
  {
   "cell_type": "code",
   "execution_count": 8,
   "metadata": {},
   "outputs": [],
   "source": [
    "X = np.zeros((42, 6, 1))\n",
    "y = np.zeros(42)\n",
    "\n",
    "for i in range(len(keys)):\n",
    "    key = keys[i]\n",
    "    im = cv2.imread('dataset/' + key)\n",
    "    # Check if it is positive or negative example\n",
    "    output = key.split('/')[1]\n",
    "    \n",
    "    if(output == 'positive'):\n",
    "        y[i] = 1\n",
    "    elif(output == 'negative'):\n",
    "        y[i] = 0\n",
    "    \n",
    "    landmarks = data[key]['landmarks']\n",
    "    \n",
    "    # Grab the 2D coordinates of our six sample points\n",
    "    image_points = np.array([\n",
    "        (landmarks[33]['x'], landmarks[33]['y']) ,     # Nose tip\n",
    "        (landmarks[8]['x'], landmarks[8]['y']),     # Chin\n",
    "        (landmarks[36]['x'], landmarks[36]['y']),     # Left eye left corner\n",
    "        (landmarks[45]['x'], landmarks[45]['y']),     # Right eye right corner\n",
    "        (landmarks[48]['x'], landmarks[48]['y']),     # Left Mouth corner\n",
    "        (landmarks[54]['x'], landmarks[54]['y'])      # Right mouth corner\n",
    "    ], dtype=\"double\")\n",
    "    \n",
    "    # Solve the PnP problem with the parameters specified above\n",
    "    (success, rotation_vector, translation_vector) = cv2.solvePnP(\n",
    "        model_points, image_points, camera_matrix, dist_coeffs, flags=cv2.SOLVEPNP_ITERATIVE\n",
    "        )\n",
    "    # print(\"Rotation Vector:\\n {0}\".format(rotation_vector))\n",
    "    # print(\"Translation Vector:\\n {0}\".format(translation_vector))\n",
    "    \n",
    "    X[i, :] = np.concatenate((rotation_vector, translation_vector), axis=0)\n"
   ]
  },
  {
   "cell_type": "markdown",
   "metadata": {},
   "source": [
    "### Save and load data to save time/power"
   ]
  },
  {
   "cell_type": "code",
   "execution_count": 33,
   "metadata": {},
   "outputs": [],
   "source": [
    "np.savetxt('input.out', X.squeeze(), delimiter=',')   # X is an array"
   ]
  },
  {
   "cell_type": "code",
   "execution_count": 2,
   "metadata": {},
   "outputs": [
    {
     "name": "stdout",
     "output_type": "stream",
     "text": [
      "(52, 6)\n"
     ]
    }
   ],
   "source": [
    "X = np.loadtxt('input.out', delimiter=',')\n",
    "print(X.shape)"
   ]
  },
  {
   "cell_type": "code",
   "execution_count": 14,
   "metadata": {},
   "outputs": [
    {
     "name": "stdout",
     "output_type": "stream",
     "text": [
      "(42, 6)\n"
     ]
    }
   ],
   "source": [
    "X = X.squeeze()\n",
    "print(X.shape)"
   ]
  },
  {
   "cell_type": "code",
   "execution_count": 15,
   "metadata": {},
   "outputs": [
    {
     "name": "stdout",
     "output_type": "stream",
     "text": [
      "(42,)\n"
     ]
    }
   ],
   "source": [
    "# y = np.concatenate((np.zeros((26)), np.ones((26))), axis=0)\n",
    "print(y.shape)"
   ]
  },
  {
   "cell_type": "code",
   "execution_count": 45,
   "metadata": {},
   "outputs": [],
   "source": [
    "np.savetxt('output.out', y, delimiter=',')   # X is an array"
   ]
  },
  {
   "cell_type": "code",
   "execution_count": 3,
   "metadata": {},
   "outputs": [
    {
     "name": "stdout",
     "output_type": "stream",
     "text": [
      "[0. 0. 0. 0. 0. 0. 0. 0. 0. 0. 0. 0. 0. 0. 0. 0. 0. 0. 0. 0. 0. 0. 0. 0.\n",
      " 0. 0. 1. 1. 1. 1. 1. 1. 1. 1. 1. 1. 1. 1. 1. 1. 1. 1. 1. 1. 1. 1. 1. 1.\n",
      " 1. 1. 1. 1.]\n"
     ]
    }
   ],
   "source": [
    "y = np.loadtxt('output.out', delimiter=',')\n",
    "print(y)"
   ]
  },
  {
   "cell_type": "markdown",
   "metadata": {},
   "source": [
    "### Shuffle and split dataset"
   ]
  },
  {
   "cell_type": "code",
   "execution_count": 16,
   "metadata": {},
   "outputs": [],
   "source": [
    "indexes = [i for i in range(42)]\n",
    "shuffle(indexes)\n",
    "\n",
    "X = X[indexes, :]\n",
    "y = y[indexes, ]\n",
    "\n",
    "X_train, X_test, y_train, y_test = train_test_split(X, y, test_size=0.3)"
   ]
  },
  {
   "cell_type": "code",
   "execution_count": 17,
   "metadata": {},
   "outputs": [
    {
     "name": "stdout",
     "output_type": "stream",
     "text": [
      "[1. 1. 0. 0. 0. 1. 1. 0. 0. 0. 0. 0. 0.]\n"
     ]
    }
   ],
   "source": [
    "print(y_test)"
   ]
  },
  {
   "cell_type": "code",
   "execution_count": 18,
   "metadata": {},
   "outputs": [],
   "source": [
    "classifier = svm.SVC(kernel='linear')"
   ]
  },
  {
   "cell_type": "code",
   "execution_count": 19,
   "metadata": {},
   "outputs": [
    {
     "data": {
      "text/plain": [
       "SVC(C=1.0, cache_size=200, class_weight=None, coef0=0.0,\n",
       "    decision_function_shape='ovr', degree=3, gamma='auto_deprecated',\n",
       "    kernel='linear', max_iter=-1, probability=False, random_state=None,\n",
       "    shrinking=True, tol=0.001, verbose=False)"
      ]
     },
     "execution_count": 19,
     "metadata": {},
     "output_type": "execute_result"
    }
   ],
   "source": [
    "classifier.fit(X_train, y_train)"
   ]
  },
  {
   "cell_type": "code",
   "execution_count": 20,
   "metadata": {},
   "outputs": [],
   "source": [
    "y_pred = classifier.predict(X_test)"
   ]
  },
  {
   "cell_type": "code",
   "execution_count": 21,
   "metadata": {},
   "outputs": [
    {
     "name": "stdout",
     "output_type": "stream",
     "text": [
      "Accuracy:  0.6923076923076923\n"
     ]
    }
   ],
   "source": [
    "print('Accuracy: ', metrics.accuracy_score(y_test, y_pred))"
   ]
  },
  {
   "cell_type": "markdown",
   "metadata": {},
   "source": [
    "# Visualizing training dataset"
   ]
  },
  {
   "cell_type": "code",
   "execution_count": 34,
   "metadata": {},
   "outputs": [
    {
     "name": "stdout",
     "output_type": "stream",
     "text": [
      "[-3.00000000e+00  5.00000000e-01  5.00000000e-01  2.88157491e+02\n",
      " -9.76285501e+00 -2.43266573e+03]\n"
     ]
    }
   ],
   "source": [
    "X = np.loadtxt('input.out', delimiter=',')\n",
    "X[37, :3] = [-3, 0.5, 0.5]\n",
    "print(X[37, :])"
   ]
  },
  {
   "cell_type": "code",
   "execution_count": 44,
   "metadata": {},
   "outputs": [
    {
     "data": {
      "text/plain": [
       "<mpl_toolkits.mplot3d.art3d.Path3DCollection at 0x7f552ef8a550>"
      ]
     },
     "execution_count": 44,
     "metadata": {},
     "output_type": "execute_result"
    },
    {
     "data": {
      "image/png": "[encoded data removed]",
      "text/plain": [
       "<Figure size 432x288 with 1 Axes>"
      ]
     },
     "metadata": {
      "needs_background": "light"
     },
     "output_type": "display_data"
    }
   ],
   "source": [
    "from mpl_toolkits import mplot3d\n",
    "%matplotlib inline\n",
    "import matplotlib.pyplot as plt\n",
    "\n",
    "fig = plt.figure()\n",
    "ax = plt.axes(projection='3d')\n",
    "\n",
    "# Plot rotation vectors\n",
    "# ax.scatter3D(X[0:26, 0], X[0:26, 1], X[0:26, 2], marker='o')\n",
    "# ax.scatter3D(X[26:, 0], X[26:, 1], X[26:, 2], marker='x')\n",
    "\n",
    "# Plot translation vectors\n",
    "ax.scatter3D(X[0:26, 3], X[0:26, 4], X[0:26, 5], marker='o')\n",
    "ax.scatter3D(X[26:, 3], X[26:, 4], X[26:, 5], marker='x')"
   ]
  },
  {
   "cell_type": "code",
   "execution_count": null,
   "metadata": {},
   "outputs": [],
   "source": []
  }
 ],
 "metadata": {
  "kernelspec": {
   "display_name": "Python 3",
   "language": "python",
   "name": "python3"
  },
  "language_info": {
   "codemirror_mode": {
    "name": "ipython",
    "version": 3
   },
   "file_extension": ".py",
   "mimetype": "text/x-python",
   "name": "python",
   "nbconvert_exporter": "python",
   "pygments_lexer": "ipython3",
   "version": "3.5.3"
  }
 },
 "nbformat": 4,
 "nbformat_minor": 2
}
