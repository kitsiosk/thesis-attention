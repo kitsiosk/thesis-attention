{
 "cells": [
  {
   "cell_type": "code",
   "execution_count": 1,
   "metadata": {},
   "outputs": [
    {
     "name": "stderr",
     "output_type": "stream",
     "text": [
      "Using TensorFlow backend.\n"
     ]
    }
   ],
   "source": [
    "import numpy as np\n",
    "import cv2\n",
    "import glob\n",
    "import json\n",
    "import dlib\n",
    "from imutils import face_utils\n",
    "from sklearn import svm\n",
    "from sklearn.ensemble import RandomForestClassifier\n",
    "from sklearn.model_selection import train_test_split\n",
    "from sklearn import metrics\n",
    "from keras_vggface.vggface import VGGFace\n",
    "from sklearn.decomposition import PCA, IncrementalPCA\n",
    "import matplotlib.pyplot as plt"
   ]
  },
  {
   "cell_type": "code",
   "execution_count": 2,
   "metadata": {},
   "outputs": [],
   "source": [
    "# Load the dataset\n",
    "with open('data_cleaned.json') as json_file:\n",
    "    data_all = json.load(json_file)\n",
    "# Extract the keys in sorted order\n",
    "keys_all = sorted(data_all)\n",
    "# Convert python list to np array\n",
    "keys_all = np.asarray(keys_all)"
   ]
  },
  {
   "cell_type": "code",
   "execution_count": 3,
   "metadata": {},
   "outputs": [],
   "source": [
    "participants = glob.glob('dataset/*')\n",
    "# Define global variables\n",
    "NUM_OF_PARTICIPANTS = len(participants)"
   ]
  },
  {
   "cell_type": "code",
   "execution_count": 29,
   "metadata": {},
   "outputs": [
    {
     "data": {
      "text/plain": [
       "PCA(copy=True, iterated_power='auto', n_components=32, random_state=None,\n",
       "    svd_solver='auto', tol=0.0, whiten=False)"
      ]
     },
     "execution_count": 29,
     "metadata": {},
     "output_type": "execute_result"
    }
   ],
   "source": [
    "### Uncomment to Use PCA for dimensionality reduction\n",
    "# # features_all_scaled = ((features_all - features_all.mean(axis=0))/features_all.std(axis=0))\n",
    "\n",
    "# n_comp = 32\n",
    "# pca = PCA(n_components=n_comp)\n",
    "# pca.fit(encodings_all)\n",
    "\n",
    "# # ipca = IncrementalPCA(n_components=n_comp)\n",
    "# # ipca.fit(features_all_scaled)"
   ]
  },
  {
   "cell_type": "code",
   "execution_count": 4,
   "metadata": {},
   "outputs": [
    {
     "name": "stdout",
     "output_type": "stream",
     "text": [
      "Running attention prediction for 52 participants and a total of 2611 images.\n",
      "Each participant will be excluded from the training set once, our classifiers \n",
      "will be trained on the remaining participants and finally we will predict\n",
      "the result for the one we left out. The total accuracy will be the mean value\n",
      "of the accuracy of each participant\n"
     ]
    }
   ],
   "source": [
    "print(\"\"\"Running attention prediction for {} participants and a total of {} images.\n",
    "Each participant will be excluded from the training set once, our classifiers \n",
    "will be trained on the remaining participants and finally we will predict\n",
    "the result for the one we left out. The total accuracy will be the mean value\n",
    "of the accuracy of each participant\"\"\".format(NUM_OF_PARTICIPANTS, DATASET_SIZE))"
   ]
  },
  {
   "cell_type": "code",
   "execution_count": 4,
   "metadata": {},
   "outputs": [],
   "source": [
    "from sklearn.model_selection import learning_curve\n",
    "from sklearn.model_selection import ShuffleSplit\n",
    "\n",
    "\n",
    "def plot_learning_curve(estimator, title, X, y, ylim=None, cv=None,\n",
    "                        n_jobs=None, train_sizes=np.linspace(.1, 1.0, 5)):\n",
    "    plt.figure()\n",
    "    plt.title(title)\n",
    "    if ylim is not None:\n",
    "        plt.ylim(*ylim)\n",
    "    plt.xlabel(\"Training examples\")\n",
    "    plt.ylabel(\"Score\")\n",
    "    train_sizes, train_scores, test_scores = learning_curve(\n",
    "        estimator, X, y, cv=cv, n_jobs=n_jobs, train_sizes=train_sizes)\n",
    "    train_scores_mean = np.mean(train_scores, axis=1)\n",
    "    train_scores_std = np.std(train_scores, axis=1)\n",
    "    test_scores_mean = np.mean(test_scores, axis=1)\n",
    "    test_scores_std = np.std(test_scores, axis=1)\n",
    "    plt.grid()\n",
    "\n",
    "    plt.fill_between(train_sizes, train_scores_mean - train_scores_std,\n",
    "                     train_scores_mean + train_scores_std, alpha=0.1,\n",
    "                     color=\"r\")\n",
    "    plt.fill_between(train_sizes, test_scores_mean - test_scores_std,\n",
    "                     test_scores_mean + test_scores_std, alpha=0.1, color=\"g\")\n",
    "    plt.plot(train_sizes, train_scores_mean, 'o-', color=\"r\",\n",
    "             label=\"Training score\")\n",
    "    plt.plot(train_sizes, test_scores_mean, 'o-', color=\"g\",\n",
    "             label=\"Cross-validation score\")\n",
    "\n",
    "    plt.legend(loc=\"best\")\n",
    "    return plt"
   ]
  },
  {
   "cell_type": "code",
   "execution_count": 37,
   "metadata": {},
   "outputs": [
    {
     "name": "stdout",
     "output_type": "stream",
     "text": [
      "Training set accuracy for SVM: 0.9768054823405377\n",
      "Test set accuracy for SVM:  0.9138991389913899\n"
     ]
    }
   ],
   "source": [
    "# svm_classifier = svm.SVC(C=10, kernel='rbf', gamma='scale')\n",
    "# features_train, features_val, labels_train, labels_val = train_test_split(features_all, labels_all, test_size=0.3)\n",
    "\n",
    "# svm_classifier.fit(features_train, labels_train)\n",
    "\n",
    "# y_pred_svm = svm_classifier.predict(features_val)\n",
    "\n",
    "# print('Training set accuracy for SVM:', svm_classifier.score(features_train, labels_train))\n",
    "# print('Test set accuracy for SVM: ', metrics.accuracy_score(labels_val, y_pred_svm))"
   ]
  },
  {
   "cell_type": "code",
   "execution_count": 5,
   "metadata": {},
   "outputs": [],
   "source": [
    "with open('uuid_lengths_128.json') as json_file:\n",
    "    uuid_lengths = json.load(json_file)\n",
    "\n",
    "uuids = []\n",
    "sum = 0\n",
    "for i in range(NUM_OF_PARTICIPANTS):\n",
    "    uuid = participants[i].split('/')[1]\n",
    "    uuids.append(uuid)\n",
    "    sum += uuid_lengths[uuid]\n",
    "DATASET_SIZE = sum"
   ]
  },
  {
   "cell_type": "code",
   "execution_count": 6,
   "metadata": {
    "scrolled": true
   },
   "outputs": [
    {
     "name": "stdout",
     "output_type": "stream",
     "text": [
      "2611\n"
     ]
    }
   ],
   "source": [
    "print(sum)"
   ]
  },
  {
   "cell_type": "code",
   "execution_count": 7,
   "metadata": {},
   "outputs": [],
   "source": [
    "encodings_all = np.zeros((2611, 128))"
   ]
  },
  {
   "cell_type": "code",
   "execution_count": 8,
   "metadata": {},
   "outputs": [
    {
     "name": "stdout",
     "output_type": "stream",
     "text": [
      "#0 TEST SVM: 1.0, TRAIN SVM: 0.8910007757951901\n",
      "[[33]]\n"
     ]
    },
    {
     "data": {
      "image/png": "[encoded data removed]",
      "text/plain": [
       "<Figure size 432x288 with 1 Axes>"
      ]
     },
     "metadata": {
      "needs_background": "light"
     },
     "output_type": "display_data"
    },
    {
     "name": "stdout",
     "output_type": "stream",
     "text": [
      "1.0\n"
     ]
    }
   ],
   "source": [
    "# Accuracy metrics for the whole dataset. These are computed\n",
    "# by leaving every Subject out one time, calculating the accuracy for each\n",
    "# one and then taking the mean value.\n",
    "# accuracy_rf_total = 0\n",
    "accuracy_svm_total = 0\n",
    "# precision_rf_total = 0\n",
    "# precision_svm_total = 0\n",
    "# recall_rf_total = 0\n",
    "# recall_svm_total = 0\n",
    "\n",
    "\n",
    "# Array to keep track of subjects with low score\n",
    "# low_score_subjects_rf = []\n",
    "# low_score_subjects_svm = []\n",
    "\n",
    "num_features = 128\n",
    "\n",
    "dataset_len = 0\n",
    "# Loop over each participant\n",
    "for j in range(1):\n",
    "    \n",
    "    # Extract the UUID\n",
    "    uuid_excluded = uuids[j]\n",
    "    length_excluded = uuid_lengths[uuid_excluded]\n",
    "    \n",
    "    features_train = np.zeros((DATASET_SIZE  - length_excluded, num_features))\n",
    "    features_val = np.zeros((length_excluded, num_features))\n",
    "    labels_train = np.zeros(DATASET_SIZE - length_excluded)\n",
    "    labels_val = np.zeros(length_excluded)\n",
    "    \n",
    "    start = 0\n",
    "        \n",
    "    for i in range(NUM_OF_PARTICIPANTS):\n",
    "        uuid = uuids[i]\n",
    "        length = uuid_lengths[uuid]\n",
    "\n",
    "        features = np.load('encodings_128/encodings_' + uuid + '.npy')\n",
    "        labels = np.load('encodings_128/labels_' + uuid + '.npy')\n",
    "#         encodings_all[start:start+length, :] = features\n",
    "#         start += length\n",
    "#         continue\n",
    "        \n",
    "#         features = pca.transform(features)\n",
    "        \n",
    "#         hand_features = np.load('leave_one_out_datasets/X_' + uuid + '.npy')\n",
    "#         hand_labels = np.load('leave_one_out_datasets/y_' + uuid + '.npy')\n",
    "        \n",
    "        if uuid == uuid_excluded:\n",
    "            if features.shape[0] != length:\n",
    "                print('Error')\n",
    "            features_val = features\n",
    "            labels_val = labels\n",
    "        else:\n",
    "            if features.shape[0] != length:\n",
    "                print('Error 2')\n",
    "                print(features.shape[0], length, j, i)\n",
    "                break\n",
    "            features_train[start : start + length] = features\n",
    "            labels_train[start : start + length] = labels\n",
    "            start += length\n",
    "    classifier = svm.SVC(C=10, kernel='rbf', gamma='scale')\n",
    "    classifier.fit(features_train, labels_train)\n",
    "    \n",
    "#     classifier = RandomForestClassifier(n_estimators=100, random_state=1)\n",
    "#     classifier.fit(features_train, labels_train)\n",
    "    \n",
    "    y_pred_svm = classifier.predict(features_val)\n",
    "#     y_pred_rf = rf_classifier.predict(features_val)\n",
    "    confusion_matrix_svm = metrics.confusion_matrix(labels_val, y_pred_svm)\n",
    "    \n",
    "    accuracy_svm_subject = metrics.accuracy_score(labels_val, y_pred_svm)\n",
    "    accuracy_svm_total += accuracy_svm_subject*y_pred_svm.shape[0]\n",
    "    dataset_len += y_pred_svm.shape[0]\n",
    "    \n",
    "    print('#{} TEST SVM: {}, TRAIN SVM: {}'.format(j, round(accuracy_svm_subject, 2),\n",
    "                                      round(classifier.score(features_train, labels_train), 2)))\n",
    "    print(confusion_matrix_svm)\n",
    "    plot_learning_curve(classifier,'Learning Curve',  features_train, labels_train, cv=5)\n",
    "    plt.show()\n",
    "print(accuracy_svm_total/dataset_len)"
   ]
  },
  {
   "cell_type": "code",
   "execution_count": 9,
   "metadata": {},
   "outputs": [
    {
     "name": "stdout",
     "output_type": "stream",
     "text": [
      "[0. 0. 0. 0. 0. 0. 0. 0. 0. 0. 0. 0. 0. 0. 0. 0. 0. 0. 0. 0. 0. 0. 0. 0.\n",
      " 0. 0. 0. 0. 0. 0. 0. 0. 0.]\n"
     ]
    }
   ],
   "source": [
    "print(y_pred_svm)"
   ]
  },
  {
   "cell_type": "code",
   "execution_count": 10,
   "metadata": {},
   "outputs": [
    {
     "name": "stdout",
     "output_type": "stream",
     "text": [
      "0656f5fe35a54d1589e526a702f578b0\n"
     ]
    }
   ],
   "source": [
    "print(uuid_excluded)"
   ]
  },
  {
   "cell_type": "code",
   "execution_count": null,
   "metadata": {},
   "outputs": [],
   "source": []
  }
 ],
 "metadata": {
  "kernelspec": {
   "display_name": "Python 3",
   "language": "python",
   "name": "python3"
  },
  "language_info": {
   "codemirror_mode": {
    "name": "ipython",
    "version": 3
   },
   "file_extension": ".py",
   "mimetype": "text/x-python",
   "name": "python",
   "nbconvert_exporter": "python",
   "pygments_lexer": "ipython3",
   "version": "3.5.3"
  }
 },
 "nbformat": 4,
 "nbformat_minor": 2
}
