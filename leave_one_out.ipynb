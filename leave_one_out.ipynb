{
 "cells": [
  {
   "cell_type": "markdown",
   "metadata": {},
   "source": [
    "# Leave-One-Subject-Out Evaluation"
   ]
  },
  {
   "cell_type": "code",
   "execution_count": 1,
   "metadata": {},
   "outputs": [],
   "source": [
    "import numpy as np\n",
    "import cv2\n",
    "import dlib\n",
    "from imutils import face_utils\n",
    "import glob\n",
    "import pickle\n",
    "from random import shuffle\n",
    "from sklearn.model_selection import train_test_split\n",
    "from sklearn import metrics\n",
    "import json\n",
    "from sklearn.ensemble import RandomForestClassifier\n",
    "from sklearn import svm"
   ]
  },
  {
   "cell_type": "markdown",
   "metadata": {},
   "source": [
    "### 3D Model points for SolvePnP\n",
    "We will approximate the 3D points of the following face parts with the correspoinding coordinates. This is a general model of the human face and we do not need to worry much about absolute accuracy."
   ]
  },
  {
   "cell_type": "code",
   "execution_count": 2,
   "metadata": {},
   "outputs": [],
   "source": [
    "# 3D model points.\n",
    "model_points = np.array([\n",
    "                            (0.0, 0.0, 0.0),             # Nose tip\n",
    "                            (0.0, -330.0, -65.0),        # Chin\n",
    "                            (-225.0, 170.0, -135.0),     # Left eye left corner\n",
    "                            (225.0, 170.0, -135.0),      # Right eye right corne\n",
    "                            (-150.0, -150.0, -125.0),    # Left Mouth corner\n",
    "                            (150.0, -150.0, -125.0)      # Right mouth corner\n",
    "                         \n",
    "                        ])"
   ]
  },
  {
   "cell_type": "markdown",
   "metadata": {},
   "source": [
    "### Load Dataset"
   ]
  },
  {
   "cell_type": "code",
   "execution_count": 107,
   "metadata": {},
   "outputs": [
    {
     "name": "stdout",
     "output_type": "stream",
     "text": [
      "(2695,)\n"
     ]
    }
   ],
   "source": [
    "# Number of training examples to use(0-2806)\n",
    "DATASET_SIZE = 2758\n",
    "DEBUG = False\n",
    "\n",
    "# Load the dataset\n",
    "with open('data_cleaned.json') as json_file:\n",
    "    data_all = json.load(json_file)\n",
    "\n",
    "# Extract the keys in sorted order\n",
    "keys = sorted(data_all)\n",
    "\n",
    "# Convert python list to np array\n",
    "keys = np.asarray(keys)\n",
    "\n",
    "random_key = np.random.randint(DATASET_SIZE, size=1)\n",
    "# Extract the UUID of the randomly chosen key and leave out every key with that UUID\n",
    "uuid_excluded = keys[random_key][0].split('/')[0]\n",
    "\n",
    "indices_excluded = []\n",
    "keys_excluded = []\n",
    "for i in range(DATASET_SIZE):\n",
    "    key = keys[i]\n",
    "    uuid = key.split('/')[0]\n",
    "    if(uuid == uuid_excluded):\n",
    "        indices_excluded.append(i)\n",
    "        keys_excluded.append(key)\n",
    "keys = np.delete(keys, indices_excluded)\n",
    "print(keys.shape)\n",
    "DATASET_SIZE = keys.shape[0]"
   ]
  },
  {
   "cell_type": "code",
   "execution_count": 108,
   "metadata": {},
   "outputs": [
    {
     "name": "stdout",
     "output_type": "stream",
     "text": [
      "05d77af9b4ce4de5b0f631f685601d41\n"
     ]
    }
   ],
   "source": [
    "print(uuid_excluded)"
   ]
  },
  {
   "cell_type": "code",
   "execution_count": 123,
   "metadata": {},
   "outputs": [
    {
     "name": "stdout",
     "output_type": "stream",
     "text": [
      "Rotation Vector:\n",
      " [[ 3783405.18811562]\n",
      " [-4014160.00070105]\n",
      " [26470515.88662656]]\n",
      "Translation Vector:\n",
      " [[ 1.92984857e+07]\n",
      " [-1.02404510e+08]\n",
      " [-1.11258103e+09]]\n",
      "8036631b52854bdda33a928371100eca/positive/8036631b52854bdda33a928371100eca_1293_886.jpg\n",
      "Rotation Vector:\n",
      " [[ 2.54330113e+08]\n",
      " [ 5.34029841e+08]\n",
      " [-1.08799044e+08]]\n",
      "Translation Vector:\n",
      " [[ 3.65972863e+08]\n",
      " [-4.40021703e+09]\n",
      " [-5.56045989e+10]]\n",
      "8036631b52854bdda33a928371100eca/positive/8036631b52854bdda33a928371100eca_1573_672.jpg\n",
      "(2693, 6)\n",
      "(2693,)\n"
     ]
    }
   ],
   "source": [
    "X = np.zeros((DATASET_SIZE, 6, 1))\n",
    "y = np.zeros(DATASET_SIZE)\n",
    "\n",
    "# Indices that the SolvePnP failed\n",
    "failed_indices = []\n",
    "\n",
    "for i in range(DATASET_SIZE):\n",
    "    key = keys[i]\n",
    "\n",
    "    # Approximate camera intrinsic parameters\n",
    "    im = cv2.imread('dataset/' + key)   # This imread is time consuming! Another way?\n",
    "    size = im.shape\n",
    "    focal_length = size[1]\n",
    "    center = (size[1]/2, size[0]/2)\n",
    "    camera_matrix = np.array(\n",
    "                             [[focal_length, 0, center[0]],\n",
    "                             [0, focal_length, center[1]],\n",
    "                             [0, 0, 1]], dtype = \"double\"\n",
    "                             )\n",
    "    dist_coeffs = np.zeros((4,1)) # Assuming no lens distortion\n",
    "    \n",
    "    landmarks = data_all[key]['landmarks']\n",
    "    \n",
    "    # Grab the 2D coordinates of our six sample points\n",
    "    image_points = np.array([\n",
    "        (landmarks[33]['x'], landmarks[33]['y']) ,     # Nose tip\n",
    "        (landmarks[8]['x'], landmarks[8]['y']),     # Chin\n",
    "        (landmarks[36]['x'], landmarks[36]['y']),     # Left eye left corner\n",
    "        (landmarks[45]['x'], landmarks[45]['y']),     # Right eye right corner\n",
    "        (landmarks[48]['x'], landmarks[48]['y']),     # Left Mouth corner\n",
    "        (landmarks[54]['x'], landmarks[54]['y'])      # Right mouth corner\n",
    "    ], dtype=\"double\")\n",
    "    \n",
    "    # Solve the PnP problem with the parameters specified above\n",
    "    # and obtain rotation and translation vectors\n",
    "    (success, rotation_vector, translation_vector) = cv2.solvePnP(\n",
    "        model_points, image_points, camera_matrix, dist_coeffs, flags=cv2.SOLVEPNP_ITERATIVE\n",
    "        )\n",
    "    \n",
    "    X[i, :] = np.concatenate((rotation_vector, translation_vector), axis=0)\n",
    "    # Check if it is positive or negative example\n",
    "    output = key.split('/')[1]\n",
    "    if(output == 'positive'):\n",
    "        y[i] = 1\n",
    "    elif(output == 'negative'):\n",
    "        y[i] = 0\n",
    "    \n",
    "    # DEBUGGING\n",
    "    if(X[i, 0] > 100000):\n",
    "        # Project a 3D point (0, 0, 1000.0) onto the image plane.\n",
    "        # We use this to draw a line sticking out of the nose\n",
    "        (nose_end_point2D, jacobian) = cv2.projectPoints(\n",
    "            np.array([(0.0, 0.0, 500.0)]), rotation_vector, translation_vector, camera_matrix, dist_coeffs\n",
    "            )\n",
    "        for p in image_points:\n",
    "            cv2.circle(im, (int(p[0]), int(p[1])), 3, (0,0,255), -1)\n",
    "        p1 = ( int(image_points[0][0]), int(image_points[0][1]) )\n",
    "        p2 = ( int(nose_end_point2D[0][0][0]), int(nose_end_point2D[0][0][1]) )\n",
    "        \n",
    "        # Draw a line connecting the two points. This line must show\n",
    "        # the direction out of the nose\n",
    "        cv2.line(im, p1, p2, (255,0,0), 2)\n",
    "        # Display image\n",
    "        cv2.imshow(\"Output\", im)\n",
    "        cv2.waitKey(0)\n",
    "        cv2.destroyAllWindows()\n",
    "        print(\"Rotation Vector:\\n {0}\".format(rotation_vector))\n",
    "        print(\"Translation Vector:\\n {0}\".format(translation_vector))\n",
    "        print(key)\n",
    "        failed_indices.append(i)\n",
    "\n",
    "X = np.delete(X, failed_indices, axis=0)\n",
    "y = np.delete(y, failed_indices, axis=0)\n",
    "X = X.squeeze()\n",
    "print(X.shape)\n",
    "print(y.shape)"
   ]
  },
  {
   "cell_type": "markdown",
   "metadata": {},
   "source": [
    "### Standardization(Works better in Gaussian-line Distributions)"
   ]
  },
  {
   "cell_type": "code",
   "execution_count": 59,
   "metadata": {},
   "outputs": [],
   "source": [
    "# m = X[0:500].mean(axis=0)\n",
    "# std = X[0:500].std(axis=0)\n",
    "\n",
    "# X_scaled = (X - m)/std"
   ]
  },
  {
   "cell_type": "markdown",
   "metadata": {},
   "source": [
    "### Normalization"
   ]
  },
  {
   "cell_type": "code",
   "execution_count": 125,
   "metadata": {
    "collapsed": true
   },
   "outputs": [
    {
     "name": "stdout",
     "output_type": "stream",
     "text": [
      "[3.53662508e+00 1.02292301e+01 2.04586526e+00 2.95562783e+03\n",
      " 7.34242137e+02 7.87620899e+03]\n",
      "[-3.28019931e+00 -1.52525647e+01 -1.08399717e+00 -1.95621504e+03\n",
      " -1.24769639e+03 -9.11097263e+03]\n",
      "[[0.06401037 0.60332329 0.44844224 0.47856536 0.75638585 0.64862283]\n",
      " [0.06562014 0.60379737 0.44330201 0.47748204 0.76378669 0.64861359]\n",
      " [0.05821942 0.60120712 0.45860628 0.48682453 0.74427206 0.65326301]\n",
      " [0.06493258 0.6039238  0.44557271 0.47880503 0.75864194 0.64856258]\n",
      " [0.06416714 0.60347159 0.45287532 0.48181547 0.74702586 0.64930347]\n",
      " [0.06048864 0.60223547 0.4422605  0.48501553 0.74256477 0.65017643]\n",
      " [0.06460841 0.6034585  0.44910711 0.47948495 0.75336302 0.64878946]\n",
      " [0.95307111 0.59470114 0.26224418 0.47496109 0.83521722 0.64618962]\n",
      " [0.06319534 0.60283568 0.44255611 0.4846299  0.74213297 0.6499375 ]\n",
      " [0.06636764 0.60353482 0.4437236  0.47497107 0.75868585 0.64760872]\n",
      " [0.0598278  0.60292714 0.4464201  0.48581317 0.74090933 0.64991561]\n",
      " [0.06009686 0.60200711 0.44342298 0.48595401 0.74639075 0.65072261]\n",
      " [0.0629304  0.60300994 0.44501388 0.48209552 0.7480033  0.64906133]\n",
      " [0.05816722 0.60204916 0.44075359 0.48666519 0.74175902 0.65217763]\n",
      " [0.06294136 0.60408359 0.44435103 0.47972664 0.75890847 0.64902378]\n",
      " [0.06183791 0.6025643  0.44987274 0.48359301 0.74477989 0.64959327]\n",
      " [0.06504893 0.60344287 0.43702563 0.47883943 0.75434826 0.64880222]\n",
      " [0.06177255 0.60312348 0.43201557 0.48120104 0.75704487 0.64927751]\n",
      " [0.06271227 0.60320744 0.45482014 0.48112723 0.74564343 0.64861758]\n",
      " [0.06784894 0.6041277  0.44442933 0.47471547 0.78776332 0.65063698]\n",
      " [0.07102268 0.6044722  0.44530295 0.4729363  0.78766802 0.64958895]\n",
      " [0.06976544 0.60429363 0.45479501 0.47293063 0.78803559 0.64963707]\n",
      " [0.0711646  0.60434368 0.45546101 0.47191818 0.78647133 0.64884917]\n",
      " [0.07392958 0.60514353 0.46228518 0.46352432 0.79695725 0.65089471]\n",
      " [0.07049472 0.6040002  0.44905944 0.47424336 0.78912424 0.65092346]\n",
      " [0.95498988 0.59450467 0.25557996 0.47494846 0.83557284 0.6464164 ]\n",
      " [0.06004893 0.60449636 0.40793016 0.46521617 0.84218032 0.64170196]\n",
      " [0.06932047 0.60470373 0.46418911 0.47086943 0.78986336 0.65088873]\n",
      " [0.06916291 0.60378543 0.44782982 0.47560948 0.79053125 0.65135411]\n",
      " [0.07249599 0.60546016 0.4706762  0.46556856 0.79021155 0.64969931]\n",
      " [0.07274123 0.60526225 0.45457846 0.46921026 0.78871834 0.64823049]\n",
      " [0.0717357  0.60477388 0.45250407 0.46874442 0.79290279 0.65039019]\n",
      " [0.06958152 0.60481272 0.45322359 0.47023566 0.78585238 0.64861597]\n",
      " [0.95406601 0.59472904 0.25525932 0.47467864 0.83388702 0.64603726]\n",
      " [0.07050315 0.60430892 0.46124679 0.4739293  0.79029584 0.65080691]\n",
      " [0.07245289 0.60502773 0.44729413 0.46721544 0.79155697 0.64929849]\n",
      " [0.07243026 0.60453795 0.44470742 0.47196989 0.79092234 0.65036756]\n",
      " [0.07195312 0.60529694 0.45832204 0.4636472  0.78523849 0.64830255]\n",
      " [0.07095598 0.60390462 0.44375212 0.47483877 0.79129813 0.65090373]\n",
      " [0.06984077 0.60455304 0.45747298 0.47119999 0.78951477 0.65035393]\n",
      " [0.95179191 0.59467811 0.25810981 0.47392009 0.83352226 0.64544553]\n",
      " [0.07067901 0.60470105 0.44880909 0.47217604 0.78918041 0.64988617]\n",
      " [0.07241071 0.6047919  0.45517985 0.46888797 0.78942138 0.64868015]\n",
      " [0.07129887 0.60354795 0.44570646 0.47450242 0.78556162 0.64956877]\n",
      " [0.06193364 0.59851839 0.51670273 0.41168709 0.61184118 0.64852116]\n",
      " [0.05729807 0.59907506 0.12493525 0.46499756 0.6036603  0.648722  ]\n",
      " [0.0470728  0.59910161 0.03179572 0.48758319 0.56928177 0.65080163]\n",
      " [0.05975341 0.59561746 0.07494    0.4850597  0.62069303 0.65085384]\n",
      " [0.48822191 0.68741954 0.30701363 0.43675461 0.64412562 0.41596837]\n",
      " [0.06323602 0.59920895 0.58965254 0.39245616 0.60564182 0.64929938]\n",
      " [0.48367921 0.69233148 0.28436105 0.44300063 0.62883849 0.39468254]\n",
      " [0.06335562 0.59900909 0.07124586 0.48094985 0.6250991  0.64889872]\n",
      " [0.08364948 0.60500568 0.46872693 0.41663168 0.71646945 0.64533372]\n",
      " [0.05346165 0.60217147 0.1782395  0.45332592 0.59626669 0.64773605]\n",
      " [0.05839349 0.60279134 0.12797259 0.46332336 0.63948123 0.64420131]\n",
      " [0.05595216 0.60134456 0.54708652 0.41104484 0.57865821 0.64936628]\n",
      " [0.04045665 0.60006315 0.44387836 0.41344495 0.52835452 0.65753962]\n",
      " [0.08108554 0.60585192 0.58500195 0.39258455 0.6521486  0.64397924]\n",
      " [0.07365633 0.60292417 0.61623114 0.39268106 0.62849268 0.64463181]\n",
      " [0.05612309 0.60289657 0.11239848 0.47803561 0.6257293  0.64679202]\n",
      " [0.0942132  0.60059644 0.38874944 0.42210391 0.75143682 0.64567824]\n",
      " [0.08457248 0.59785554 0.62662054 0.35430318 0.63412562 0.66155264]\n",
      " [0.49087851 0.6914496  0.36679944 0.42459084 0.68733395 0.41709198]\n",
      " [0.0553146  0.60106112 0.14636337 0.46435733 0.61062727 0.64579163]\n",
      " [0.04936055 0.60079685 0.30703875 0.43315297 0.5878872  0.64878685]\n",
      " [0.0634134  0.60052297 0.55292495 0.41380703 0.60369726 0.64702916]\n",
      " [0.08067815 0.59707259 0.36778653 0.42778511 0.70896445 0.64664066]\n",
      " [0.06885977 0.59846502 0.0977731  0.48165007 0.65949018 0.64976597]\n",
      " [0.0778102  0.60435661 0.60777178 0.38604684 0.65538146 0.64648853]\n",
      " [0.06625729 0.6005908  0.57677081 0.39426054 0.61982269 0.64873424]\n",
      " [0.08309207 0.59826729 0.37869609 0.42240307 0.73277996 0.6496977 ]\n",
      " [0.06752976 0.60007352 0.05029065 0.48934882 0.63573642 0.64818311]\n",
      " [0.06337802 0.59961457 0.08971557 0.49348021 0.66241165 0.64629908]\n",
      " [0.49515539 0.68695311 0.320706   0.44111914 0.64238754 0.41715824]\n",
      " [0.49843302 0.69066324 0.30938355 0.43330269 0.63043613 0.4097129 ]\n",
      " [0.0662798  0.59984377 0.60576455 0.39015962 0.60750257 0.64875208]\n",
      " [0.05457568 0.59688951 0.25364881 0.42944267 0.615979   0.64790467]\n",
      " [0.4821646  0.69265934 0.34604845 0.42397108 0.67162289 0.41810153]\n",
      " [0.05469276 0.60254063 0.13382884 0.47182862 0.61952585 0.64596807]\n",
      " [0.08067116 0.60231709 0.63208701 0.36470135 0.64852629 0.64702009]\n",
      " [0.07364451 0.59617829 0.00205583 0.52209303 0.62276989 0.64760462]\n",
      " [0.49449817 0.68654435 0.33546353 0.43912858 0.66805995 0.41740117]\n",
      " [0.05726129 0.59694185 0.50892849 0.41449797 0.57256403 0.65019767]\n",
      " [0.07340679 0.59860527 0.         0.49285841 0.6435207  0.64595581]\n",
      " [0.05145797 0.60226854 0.12245567 0.46219611 0.58841801 0.64685453]\n",
      " [0.04957069 0.59433773 0.39777808 0.42384502 0.5560259  0.65242681]\n",
      " [0.05564404 0.60341639 0.02852486 0.48531932 0.59469083 0.64820806]\n",
      " [0.06716764 0.59723652 0.06356861 0.48510556 0.64213129 0.64836094]\n",
      " [0.05893937 0.6019658  0.09808649 0.47991745 0.6285511  0.64632493]\n",
      " [0.06772076 0.59795633 0.00900635 0.51343789 0.61600672 0.64959776]\n",
      " [0.07106725 0.59937681 0.55397613 0.39732838 0.61493136 0.64743893]\n",
      " [0.06789574 0.60135775 0.24402534 0.44346637 0.65876594 0.63876956]\n",
      " [0.06589363 0.60358277 0.51436173 0.41071399 0.64327877 0.64751114]\n",
      " [0.07409132 0.60346339 0.52513527 0.40792176 0.63960385 0.64301516]\n",
      " [0.06507735 0.59825528 0.49845745 0.40690929 0.64455965 0.64738937]\n",
      " [0.07639557 0.60403823 0.52510159 0.39896924 0.67979475 0.64646488]\n",
      " [0.08075855 0.60449349 0.53341135 0.39682323 0.67027364 0.64534931]\n",
      " [0.08131203 0.60467086 0.54437709 0.39131766 0.68392761 0.64451183]\n",
      " [0.06989094 0.60422885 0.56708051 0.40198504 0.64682039 0.64637847]\n",
      " [0.08898078 0.6028529  0.51907448 0.39541583 0.71976139 0.64313573]]\n"
     ]
    }
   ],
   "source": [
    "max_vals = np.max(X, axis=0)\n",
    "min_vals = np.min(X, axis=0)\n",
    "print(max_vals)\n",
    "print(min_vals)\n",
    "X_scaled = (X - min_vals)/(max_vals - min_vals)\n",
    "print(X_scaled[0:100])"
   ]
  },
  {
   "cell_type": "markdown",
   "metadata": {},
   "source": [
    "### Train and Predict"
   ]
  },
  {
   "cell_type": "code",
   "execution_count": 154,
   "metadata": {},
   "outputs": [],
   "source": [
    " X_train, X_test, y_train, y_test = train_test_split(X_scaled, y, test_size=0.2)"
   ]
  },
  {
   "cell_type": "code",
   "execution_count": 155,
   "metadata": {},
   "outputs": [
    {
     "name": "stdout",
     "output_type": "stream",
     "text": [
      "Test set accuracy for Random Forest:  0.7402597402597403\n"
     ]
    }
   ],
   "source": [
    "rf_classifier = RandomForestClassifier(n_estimators=100, random_state=1)\n",
    "rf_classifier.fit(X_train, y_train)\n",
    "y_pred_rf = rf_classifier.predict(X_test)\n",
    "\n",
    "print('Test set accuracy for Random Forest: ', metrics.accuracy_score(y_test, y_pred_rf))"
   ]
  },
  {
   "cell_type": "code",
   "execution_count": 156,
   "metadata": {},
   "outputs": [
    {
     "name": "stdout",
     "output_type": "stream",
     "text": [
      "Test set accuracy for SVM:  0.6178107606679035\n"
     ]
    }
   ],
   "source": [
    "svm_classifier = svm.SVC(C=100, kernel='rbf', gamma='auto')\n",
    "svm_classifier.fit(X_train, y_train)\n",
    "y_pred_svm = svm_classifier.predict(X_test)\n",
    "\n",
    "print('Test set accuracy for SVM: ', metrics.accuracy_score(y_test, y_pred_svm))"
   ]
  },
  {
   "cell_type": "code",
   "execution_count": 157,
   "metadata": {},
   "outputs": [
    {
     "name": "stdout",
     "output_type": "stream",
     "text": [
      "63\n"
     ]
    }
   ],
   "source": [
    "print(len(keys_excluded))"
   ]
  },
  {
   "cell_type": "code",
   "execution_count": 145,
   "metadata": {},
   "outputs": [
    {
     "name": "stdout",
     "output_type": "stream",
     "text": [
      "(63, 6) (63,)\n"
     ]
    }
   ],
   "source": [
    "X_eval = np.zeros((len(keys_excluded), 6, 1))\n",
    "y_eval = np.zeros(len(keys_excluded))\n",
    "\n",
    "for i in range(len(keys_excluded)):\n",
    "    key = keys_excluded[i]\n",
    "        \n",
    "    # Approximate camera intrinsic parameters\n",
    "    im = cv2.imread('dataset/' + key)   # This imread is time consuming! Another way?\n",
    "    size = im.shape\n",
    "    focal_length = size[1]\n",
    "    center = (size[1]/2, size[0]/2)\n",
    "    camera_matrix = np.array(\n",
    "                             [[focal_length, 0, center[0]],\n",
    "                             [0, focal_length, center[1]],\n",
    "                             [0, 0, 1]], dtype = \"double\"\n",
    "                             )\n",
    "    dist_coeffs = np.zeros((4,1)) # Assuming no lens distortion\n",
    "\n",
    "    landmarks = data_all[key]['landmarks']\n",
    "    \n",
    "    # Grab the 2D coordinates of our six sample points\n",
    "    image_points = np.array([\n",
    "        (landmarks[33]['x'], landmarks[33]['y']) ,     # Nose tip\n",
    "        (landmarks[8]['x'], landmarks[8]['y']),     # Chin\n",
    "        (landmarks[36]['x'], landmarks[36]['y']),     # Left eye left corner\n",
    "        (landmarks[45]['x'], landmarks[45]['y']),     # Right eye right corner\n",
    "        (landmarks[48]['x'], landmarks[48]['y']),     # Left Mouth corner\n",
    "        (landmarks[54]['x'], landmarks[54]['y'])      # Right mouth corner\n",
    "    ], dtype=\"double\")\n",
    "    \n",
    "    # Solve the PnP problem with the parameters specified above\n",
    "    # and obtain rotation and translation vectors\n",
    "    (success, rotation_vector, translation_vector) = cv2.solvePnP(\n",
    "        model_points, image_points, camera_matrix, dist_coeffs, flags=cv2.SOLVEPNP_ITERATIVE\n",
    "        )\n",
    "    \n",
    "    X_eval[i, :] = np.concatenate((rotation_vector, translation_vector), axis=0)\n",
    "    # Check if it is positive or negative example\n",
    "    output = key.split('/')[1]\n",
    "    if(output == 'positive'):\n",
    "        y_eval[i] = 1\n",
    "    elif(output == 'negative'):\n",
    "        y_eval[i] = 0\n",
    "    \n",
    "    if(True and i<10):\n",
    "        # Project a 3D point (0, 0, 1000.0) onto the image plane.\n",
    "        # We use this to draw a line sticking out of the nose\n",
    "        (nose_end_point2D, jacobian) = cv2.projectPoints(\n",
    "            np.array([(0.0, 0.0, 500.0)]), rotation_vector, translation_vector, camera_matrix, dist_coeffs\n",
    "            )\n",
    "        for p in image_points:\n",
    "            cv2.circle(im, (int(p[0]), int(p[1])), 3, (0,0,255), -1)\n",
    "        p1 = ( int(image_points[0][0]), int(image_points[0][1]) )\n",
    "        p2 = ( int(nose_end_point2D[0][0][0]), int(nose_end_point2D[0][0][1]) )\n",
    "        \n",
    "        # Draw a line connecting the two points. This line must show\n",
    "        # the direction out of the nose\n",
    "        cv2.line(im, p1, p2, (255,0,0), 2)\n",
    "        # Display image\n",
    "        cv2.imshow(output, im)\n",
    "        cv2.waitKey(0)\n",
    "        cv2.destroyAllWindows()\n",
    "\n",
    "\n",
    "X_eval = X_eval.squeeze()\n",
    "print(X_eval.shape, y_eval.shape)"
   ]
  },
  {
   "cell_type": "code",
   "execution_count": 71,
   "metadata": {},
   "outputs": [],
   "source": [
    "# m_eval = X_eval.mean(axis=0)\n",
    "# std_eval = X_eval.std(axis=0)\n",
    "\n",
    "# X_eval = (X_eval - m_eval)/std_eval"
   ]
  },
  {
   "cell_type": "code",
   "execution_count": 146,
   "metadata": {},
   "outputs": [],
   "source": [
    "min_vals = np.min(X_eval, axis=0)\n",
    "max_vals = np.max(X_eval, axis=0)\n",
    "\n",
    "X_eval = (X_eval - min_vals)/(max_vals - min_vals)"
   ]
  },
  {
   "cell_type": "code",
   "execution_count": 160,
   "metadata": {
    "collapsed": true
   },
   "outputs": [
    {
     "name": "stdout",
     "output_type": "stream",
     "text": [
      "[[0.04196262 0.06787416 0.66194111 0.33870478 0.08872988 0.97405679]\n",
      " [0.00812232 0.06580045 0.73773446 0.28084988 0.03190609 0.9954046 ]\n",
      " [0.03165903 0.05734718 0.63479272 0.44711099 0.05321417 0.98430157]\n",
      " [0.01088703 0.06134448 0.67510234 0.34646635 0.08596627 0.96785059]\n",
      " [0.03205477 0.08792741 0.58487313 0.66871039 0.13704574 0.97979454]\n",
      " [0.04333815 0.06355765 0.63525824 0.37443404 0.08720099 0.96966616]\n",
      " [0.0198223  0.06625968 0.7453658  0.30021909 0.02384174 0.97791211]\n",
      " [0.02412801 0.06698968 0.57917828 0.35034617 0.06208342 0.99780368]\n",
      " [0.02532599 0.08149866 0.63034203 0.50568961 0.16771769 0.97648028]\n",
      " [0.033418   0.08207265 0.52572446 0.61058777 0.1555315  0.97350193]\n",
      " [1.         1.         0.         1.         1.         0.        ]\n",
      " [0.01263295 0.06628076 0.50013116 0.55574062 0.04643974 0.98332706]\n",
      " [0.01499641 0.06791895 0.55496419 0.49811595 0.07291532 0.98481389]\n",
      " [0.02207982 0.08528275 0.62472563 0.57293798 0.14224361 0.9772581 ]\n",
      " [0.02793878 0.08073767 0.76755249 0.40888556 0.16151545 0.98034643]\n",
      " [0.0215563  0.09027607 0.44341726 0.68844019 0.17062629 0.9739878 ]\n",
      " [0.06612095 0.05945834 0.57584791 0.50677632 0.1422967  0.98429008]\n",
      " [0.01863027 0.06829326 0.49918102 0.5098132  0.07458204 0.98208502]\n",
      " [0.03857737 0.08039327 0.69636689 0.39693916 0.15539361 0.97988773]\n",
      " [0.01771267 0.05011575 0.62668104 0.35660149 0.00770983 0.98495444]\n",
      " [0.03528085 0.05873513 0.69519193 0.35051079 0.07259678 0.98784938]\n",
      " [0.00721704 0.06736977 0.77307031 0.2220108  0.03395987 0.97923752]\n",
      " [0.02371205 0.07857921 0.67403701 0.45736611 0.15552776 0.97665423]\n",
      " [0.03405423 0.08801996 0.55344717 0.67448094 0.14971649 0.97896392]\n",
      " [0.03854911 0.05842209 0.65438457 0.32526159 0.05465751 0.98653354]\n",
      " [0.04207569 0.05596011 0.64612007 0.37977079 0.07511811 0.97878331]\n",
      " [0.00735842 0.06108423 0.6986046  0.31441434 0.00946269 0.99346251]\n",
      " [0.04481728 0.05258954 0.56938416 0.62013715 0.10457827 0.99272227]\n",
      " [0.00894823 0.0474279  0.68532148 0.33379076 0.00832229 0.99814528]\n",
      " [0.07072139 0.07578651 0.61899381 0.47474682 0.18156751 0.9591878 ]\n",
      " [0.06782814 0.04888898 0.61991674 0.40636163 0.10627267 0.97125263]\n",
      " [0.02260891 0.05443399 0.6482266  0.37110966 0.05862683 0.98845781]\n",
      " [0.02580401 0.08039514 0.76876938 0.40309947 0.16345342 0.99125994]\n",
      " [0.01553918 0.01784857 0.86703134 0.32270892 0.00314514 0.99619414]\n",
      " [0.01123352 0.07574789 0.70283323 0.45643686 0.16466828 0.9893079 ]\n",
      " [0.0569965  0.06258536 0.64444976 0.37678251 0.10068785 0.9744798 ]\n",
      " [0.08378169 0.07802358 0.70367272 0.3524143  0.18291312 0.98093882]\n",
      " [0.01137371 0.06396387 0.70865232 0.29754602 0.01618605 0.98973487]\n",
      " [0.00288198 0.0682917  0.84508333 0.17660222 0.02974864 0.99192343]\n",
      " [0.         0.         1.         0.42870756 0.         0.99687401]\n",
      " [0.02434317 0.08213594 0.41622525 0.73867385 0.15917278 0.98420434]\n",
      " [0.09015279 0.05634778 0.76547514 0.23852237 0.25162127 0.96896423]\n",
      " [0.03368296 0.08656113 0.56504984 0.66823797 0.16270342 0.98727372]\n",
      " [0.01012457 0.06779153 0.84882839 0.13991815 0.03587478 0.9917145 ]\n",
      " [0.00623375 0.04540219 0.94193437 0.         0.01719986 1.        ]\n",
      " [0.02261524 0.07837926 0.75342294 0.39404764 0.16146605 0.98979532]\n",
      " [0.04163941 0.08308782 0.60060169 0.65883843 0.15910504 0.9805312 ]\n",
      " [0.03754059 0.08632305 0.48226635 0.76328794 0.13939423 0.9823147 ]\n",
      " [0.03447939 0.0676295  0.23874993 0.89285815 0.1257707  0.98605252]\n",
      " [0.05575136 0.06409049 0.59670075 0.44444812 0.09346553 0.98107732]\n",
      " [0.02652807 0.08420754 0.5089533  0.694971   0.16292922 0.97984991]\n",
      " [0.03272467 0.03477029 0.37480351 0.75975603 0.04193528 0.99652434]\n",
      " [0.03751808 0.06457441 0.46017593 0.58218533 0.08391529 0.97572183]\n",
      " [0.00503898 0.14078732 0.30897775 0.6299031  0.02158574 0.99748432]\n",
      " [0.04879928 0.06682802 0.34385392 0.76092603 0.1357358  0.98911597]\n",
      " [0.01797821 0.06045872 0.63636977 0.38854313 0.08631779 0.97925167]\n",
      " [0.0267822  0.06601903 0.30064418 0.73764359 0.10805897 0.99395778]\n",
      " [0.05326642 0.05434627 0.4397065  0.65097776 0.15088473 0.99352746]\n",
      " [0.06077673 0.0679952  0.44487726 0.54595817 0.14727895 0.99511638]\n",
      " [0.03476328 0.08355028 0.54412558 0.70570751 0.14763972 0.98675234]\n",
      " [0.04695537 0.05720429 0.50749031 0.55092001 0.10808353 0.98918125]\n",
      " [0.02429685 0.06663011 0.39930391 0.66566919 0.08334493 0.99326928]\n",
      " [0.02821164 0.07915758 0.73056384 0.42804607 0.17115327 0.9945654 ]]\n"
     ]
    }
   ],
   "source": [
    "print(X_eval)"
   ]
  },
  {
   "cell_type": "code",
   "execution_count": 158,
   "metadata": {},
   "outputs": [
    {
     "name": "stdout",
     "output_type": "stream",
     "text": [
      "Test set accuracy for Random Forest:  0.38095238095238093\n"
     ]
    }
   ],
   "source": [
    "y_eval_rf = rf_classifier.predict(X_eval)\n",
    "\n",
    "print('Test set accuracy for Random Forest: ', metrics.accuracy_score(y_eval, y_eval_rf))"
   ]
  },
  {
   "cell_type": "code",
   "execution_count": 159,
   "metadata": {},
   "outputs": [
    {
     "name": "stdout",
     "output_type": "stream",
     "text": [
      "Test set accuracy for SVM:  0.38095238095238093\n"
     ]
    }
   ],
   "source": [
    "y_pred_svm = svm_classifier.predict(X_eval)\n",
    "\n",
    "print('Test set accuracy for SVM: ', metrics.accuracy_score(y_eval, y_pred_svm))"
   ]
  },
  {
   "cell_type": "code",
   "execution_count": null,
   "metadata": {},
   "outputs": [],
   "source": []
  }
 ],
 "metadata": {
  "kernelspec": {
   "display_name": "Python 3",
   "language": "python",
   "name": "python3"
  },
  "language_info": {
   "codemirror_mode": {
    "name": "ipython",
    "version": 3
   },
   "file_extension": ".py",
   "mimetype": "text/x-python",
   "name": "python",
   "nbconvert_exporter": "python",
   "pygments_lexer": "ipython3",
   "version": "3.5.3"
  }
 },
 "nbformat": 4,
 "nbformat_minor": 2
}
