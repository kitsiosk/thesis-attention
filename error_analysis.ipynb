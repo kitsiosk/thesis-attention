{
 "cells": [
  {
   "cell_type": "code",
   "execution_count": 1,
   "metadata": {},
   "outputs": [],
   "source": [
    "import numpy as np\n",
    "import json\n",
    "import glob\n",
    "import cv2\n",
    "import pickle\n",
    "from sklearn import metrics"
   ]
  },
  {
   "cell_type": "code",
   "execution_count": 2,
   "metadata": {},
   "outputs": [],
   "source": [
    "# Helper function\n",
    "def generate_solvepnp_parameters(size, landmarks):\n",
    "    focal_length = size[1]\n",
    "    center = (size[1]/2, size[0]/2)\n",
    "    camera_matrix = np.array(\n",
    "                             [[focal_length, 0, center[0]],\n",
    "                             [0, focal_length, center[1]],\n",
    "                             [0, 0, 1]], dtype = \"double\"\n",
    "                             )\n",
    "\n",
    "    # Grab the 2D coordinates of our six sample points\n",
    "    image_points = np.array([\n",
    "        (landmarks[33]['x'], landmarks[33]['y']) ,     # Nose tip\n",
    "        (landmarks[8]['x'], landmarks[8]['y']),     # Chin\n",
    "        (landmarks[36]['x'], landmarks[36]['y']),     # Left eye left corner\n",
    "        (landmarks[45]['x'], landmarks[45]['y']),     # Right eye right corner\n",
    "        (landmarks[48]['x'], landmarks[48]['y']),     # Left Mouth corner\n",
    "        (landmarks[54]['x'], landmarks[54]['y'])      # Right mouth corner\n",
    "    ], dtype=\"double\")\n",
    "    \n",
    "    return image_points, camera_matrix\n",
    "\n",
    "# 3D model points.\n",
    "model_points = np.array([\n",
    "                            (0.0, 0.0, 0.0),             # Nose tip\n",
    "                            (0.0, -330.0, -65.0),        # Chin\n",
    "                            (-225.0, 170.0, -135.0),     # Left eye left corner\n",
    "                            (225.0, 170.0, -135.0),      # Right eye right corne\n",
    "                            (-150.0, -150.0, -125.0),    # Left Mouth corner\n",
    "                            (150.0, -150.0, -125.0)      # Right mouth corner\n",
    "                         \n",
    "                        ])\n",
    "\n",
    "dist_coeffs = np.zeros((4,1)) # Assuming no lens distortion"
   ]
  },
  {
   "cell_type": "code",
   "execution_count": 31,
   "metadata": {},
   "outputs": [],
   "source": [
    "# Helper function\n",
    "def visualize_image(im, rotation_vector, translation_vector, image_points, camera_matrix, label, key):\n",
    "    # Project a 3D point (0, 0, 1000.0) onto the image plane.\n",
    "    # We use this to draw a line sticking out of the nose\n",
    "    (nose_end_point2D, jacobian) = cv2.projectPoints(\n",
    "        np.array([(0.0, 0.0, 500.0)]), rotation_vector, translation_vector, camera_matrix, dist_coeffs\n",
    "        )\n",
    "    iris_right = np.reshape(np.asarray(data[key]['iris_right']), (2, 1))\n",
    "    iris_left = np.reshape(np.asarray(data[key]['iris_left']), (2, 1))\n",
    "    for p in image_points:\n",
    "        cv2.circle(im, (int(p[0]), int(p[1])), 3, (0,0,255), -1)\n",
    "    cv2.circle(im, (int(iris_left[0]), int(iris_left[1])), 3, (0, 0, 255), -1)\n",
    "    cv2.circle(im, (int(iris_right[0]), int(iris_right[1])), 3, (0, 0, 255), -1)\n",
    "    p1 = ( int(image_points[0][0]), int(image_points[0][1]) )\n",
    "    p2 = ( int(nose_end_point2D[0][0][0]), int(nose_end_point2D[0][0][1]) )\n",
    "\n",
    "    # Draw a line connecting the two points. This line must show\n",
    "    # the direction out of the nose\n",
    "    cv2.line(im, p1, p2, (500,0,0), 2)\n",
    "    # Display image\n",
    "    cv2.imshow(label, im)\n",
    "    cv2.waitKey(0)\n",
    "    cv2.destroyAllWindows()"
   ]
  },
  {
   "cell_type": "code",
   "execution_count": 4,
   "metadata": {},
   "outputs": [
    {
     "name": "stdout",
     "output_type": "stream",
     "text": [
      "12\n"
     ]
    }
   ],
   "source": [
    "file = open('low_score_rf.txt', 'r')\n",
    "uuids = file.readlines()\n",
    "print(len(uuids))"
   ]
  },
  {
   "cell_type": "code",
   "execution_count": 25,
   "metadata": {},
   "outputs": [],
   "source": [
    "# Load the dataset\n",
    "with open('data_cleaned.json') as json_file:\n",
    "    data = json.load(json_file)\n",
    "# Extract the keys in sorted order\n",
    "keys_all = sorted(data)\n",
    "# Convert python list to np array\n",
    "keys_all = np.asarray(keys_all)\n",
    "DATASET_SIZE = 2728"
   ]
  },
  {
   "cell_type": "code",
   "execution_count": 89,
   "metadata": {
    "scrolled": true
   },
   "outputs": [
    {
     "name": "stdout",
     "output_type": "stream",
     "text": [
      "Number of examples for this uuid: 60\n",
      "Accuracy: 0.43333333333333335\n",
      "[[16  3]\n",
      " [31 10]]\n"
     ]
    }
   ],
   "source": [
    "# for uuid in uuids[0:1]:\n",
    "# # Remove the newline character\n",
    "# uuid = uuid[:-1]\n",
    "# print('UUID: ' + uuid)\n",
    "uuid = 'b676104c35e54ddf9579d67765f6d4a2'\n",
    "\n",
    "with open('classifiers/rf/' + uuid + '.pickle', 'rb') as f:\n",
    "    rf_classifier = pickle.load(f)\n",
    "# with open('classifiers/svm/' + uuid +'.pickle', 'rb') as f:\n",
    "#     svm_classifier = pickle.load(f)\n",
    "\n",
    "# Array of keys for this uuid\n",
    "keys = []\n",
    "for i in range(DATASET_SIZE):\n",
    "    key = keys_all[i]\n",
    "    if(key.split('/')[0] == uuid):\n",
    "        keys.append(key)\n",
    "print('Number of examples for this uuid: {}'.format(len(keys)))\n",
    "\n",
    "X = np.zeros((len(keys), 11, 1))\n",
    "y = np.zeros(len(keys))\n",
    "t_vec = np.zeros((len(keys), 3))\n",
    "\n",
    "for i in range(len(keys)):\n",
    "    key = keys[i]\n",
    "    im = cv2.imread('dataset/' + key)   # This imread is time consuming! Another way?\n",
    "    size = im.shape\n",
    "\n",
    "    landmarks = data[key]['landmarks']\n",
    "\n",
    "    image_points, camera_matrix = generate_solvepnp_parameters(size, landmarks)\n",
    "\n",
    "    # Solve the PnP problem with the parameters specified above\n",
    "    # and obtain rotation and translation vectors\n",
    "    (success, rotation_vector, translation_vector) = cv2.solvePnP(\n",
    "        model_points, image_points, camera_matrix, dist_coeffs, flags=cv2.SOLVEPNP_DLS\n",
    "        )\n",
    "\n",
    "    # Data from Architecture #2. Reshape is done for compatibility reasons\n",
    "    iris_right = np.reshape(np.asarray(data[key]['iris_right']), (2, 1))\n",
    "    iris_left = np.reshape(np.asarray(data[key]['iris_left']), (2, 1))\n",
    "\n",
    "    # Data from Architecture #3\n",
    "    left_vector = np.asarray( (abs(iris_left[0] - landmarks[39]['x']), abs(iris_left[1] - landmarks[39]['y'])) )\n",
    "    right_vector = np.asarray( (abs(iris_right[0] - landmarks[42]['x']), abs(iris_right[1] - landmarks[42]['y'])) )\n",
    "\n",
    "    X[i, :] = np.concatenate((rotation_vector, iris_left, iris_right, \n",
    "                             left_vector, right_vector), axis=0)\n",
    "    \n",
    "    t_vec[i, :] = translation_vector.squeeze()\n",
    "\n",
    "    # Check if it is positive or negative example\n",
    "    output = key.split('/')[1]\n",
    "    if(output == 'positive'):\n",
    "        y[i] = 1\n",
    "    elif(output == 'negative'):\n",
    "        y[i] = 0\n",
    "\n",
    "X = X.squeeze()\n",
    "\n",
    "m = X.mean(axis=0)\n",
    "std = X.std(axis=0)\n",
    "X_scaled = (X-m)/std\n",
    "\n",
    "# Metrics for all the examples\n",
    "y_pred = rf_classifier.predict(X_scaled)\n",
    "print('Accuracy: {}'.format(metrics.accuracy_score(y, y_pred)))\n",
    "print(metrics.confusion_matrix(y, y_pred))"
   ]
  },
  {
   "cell_type": "code",
   "execution_count": 90,
   "metadata": {},
   "outputs": [],
   "source": [
    "failed_indices = (y != y_pred)"
   ]
  },
  {
   "cell_type": "code",
   "execution_count": 93,
   "metadata": {},
   "outputs": [],
   "source": [
    "for i in range(len(failed_indices)):\n",
    "    if not failed_indices[i]:\n",
    "        key = keys[i]\n",
    "        label = key.split('/')[1]\n",
    "        im = cv2.imread('dataset/' + key)\n",
    "        size = im.shape\n",
    "        \n",
    "        landmarks = data[key]['landmarks']\n",
    "        image_points, camera_matrix = generate_solvepnp_parameters(size, landmarks)\n",
    "        \n",
    "        visualize_image(im, X[i, 0:3], t_vec[i], image_points, camera_matrix, label, key)"
   ]
  },
  {
   "cell_type": "code",
   "execution_count": 83,
   "metadata": {
    "scrolled": true
   },
   "outputs": [
    {
     "name": "stdout",
     "output_type": "stream",
     "text": [
      "False negatives:\n",
      "2.8192101992093512\n",
      "3.25477203956018\n",
      "2.6060781478881836\n",
      "2.746704725118775\n",
      "0.3236083617577208\n",
      "2.879357924828156\n",
      "2.0970065410320444\n",
      "2.22178151057318\n",
      "1.7875318894019472\n",
      "2.3511106050931403\n",
      "2.700253706711976\n",
      "2.539508196023803\n",
      "2.940511263333832\n",
      "0.9772604062006849\n",
      "1.9619749509371331\n",
      "2.6457295784583437\n",
      "3.406033515930176\n",
      "0.8055892724257205\n",
      "4.744444443629334\n",
      "1.307962564321656\n",
      "4.023964184981139\n",
      "2.4465326896080626\n",
      "2.6731181511512148\n",
      "2.45136345349826\n",
      "0.5634184617262576\n",
      "2.108732223510742\n",
      "1.6958942413330078\n",
      "2.09460126436673\n",
      "0.5055019305302721\n",
      "4.2833295968862615\n",
      "0.24755804355328337\n",
      "True negatives:\n",
      "1.2932024002075195\n",
      "1.4774847764235233\n",
      "0.8276224869948123\n",
      "0.8783782078669446\n",
      "0.6298829592191169\n",
      "2.037371378678529\n",
      "1.7213633610651868\n",
      "1.569537492898803\n",
      "1.846873466785155\n",
      "0.880313946650574\n"
     ]
    }
   ],
   "source": [
    "print('False negatives:')\n",
    "for i in range(len(failed_indices)):\n",
    "    if y[i] == 1 and y_pred[i]==0:\n",
    "        print(X[i, 10])\n",
    "print('True negatives:')\n",
    "for i in range(len(failed_indices)):\n",
    "    if y[i] == 1 and y_pred[i]==1:\n",
    "        print(X[i, 10])"
   ]
  },
  {
   "cell_type": "code",
   "execution_count": null,
   "metadata": {},
   "outputs": [],
   "source": []
  }
 ],
 "metadata": {
  "kernelspec": {
   "display_name": "Python 3",
   "language": "python",
   "name": "python3"
  },
  "language_info": {
   "codemirror_mode": {
    "name": "ipython",
    "version": 3
   },
   "file_extension": ".py",
   "mimetype": "text/x-python",
   "name": "python",
   "nbconvert_exporter": "python",
   "pygments_lexer": "ipython3",
   "version": "3.5.3"
  }
 },
 "nbformat": 4,
 "nbformat_minor": 2
}
